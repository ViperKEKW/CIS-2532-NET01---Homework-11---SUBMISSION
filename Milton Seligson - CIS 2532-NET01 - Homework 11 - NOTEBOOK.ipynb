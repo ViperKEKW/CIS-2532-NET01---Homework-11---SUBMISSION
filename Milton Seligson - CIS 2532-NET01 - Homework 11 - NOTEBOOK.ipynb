{
 "cells": [
  {
   "cell_type": "code",
   "execution_count": 1,
   "metadata": {},
   "outputs": [],
   "source": [
    "import pandas as pd"
   ]
  },
  {
   "cell_type": "code",
   "execution_count": 2,
   "metadata": {},
   "outputs": [],
   "source": [
    "df = pd.read_csv('housepricedata.csv')"
   ]
  },
  {
   "cell_type": "code",
   "execution_count": 3,
   "metadata": {},
   "outputs": [
    {
     "data": {
      "text/html": [
       "<div>\n",
       "<style scoped>\n",
       "    .dataframe tbody tr th:only-of-type {\n",
       "        vertical-align: middle;\n",
       "    }\n",
       "\n",
       "    .dataframe tbody tr th {\n",
       "        vertical-align: top;\n",
       "    }\n",
       "\n",
       "    .dataframe thead th {\n",
       "        text-align: right;\n",
       "    }\n",
       "</style>\n",
       "<table border=\"1\" class=\"dataframe\">\n",
       "  <thead>\n",
       "    <tr style=\"text-align: right;\">\n",
       "      <th></th>\n",
       "      <th>LotArea</th>\n",
       "      <th>OverallQual</th>\n",
       "      <th>OverallCond</th>\n",
       "      <th>TotalBsmtSF</th>\n",
       "      <th>FullBath</th>\n",
       "      <th>HalfBath</th>\n",
       "      <th>BedroomAbvGr</th>\n",
       "      <th>TotRmsAbvGrd</th>\n",
       "      <th>Fireplaces</th>\n",
       "      <th>GarageArea</th>\n",
       "      <th>AboveMedianPrice</th>\n",
       "    </tr>\n",
       "  </thead>\n",
       "  <tbody>\n",
       "    <tr>\n",
       "      <th>0</th>\n",
       "      <td>8450</td>\n",
       "      <td>7</td>\n",
       "      <td>5</td>\n",
       "      <td>856</td>\n",
       "      <td>2</td>\n",
       "      <td>1</td>\n",
       "      <td>3</td>\n",
       "      <td>8</td>\n",
       "      <td>0</td>\n",
       "      <td>548</td>\n",
       "      <td>1</td>\n",
       "    </tr>\n",
       "    <tr>\n",
       "      <th>1</th>\n",
       "      <td>9600</td>\n",
       "      <td>6</td>\n",
       "      <td>8</td>\n",
       "      <td>1262</td>\n",
       "      <td>2</td>\n",
       "      <td>0</td>\n",
       "      <td>3</td>\n",
       "      <td>6</td>\n",
       "      <td>1</td>\n",
       "      <td>460</td>\n",
       "      <td>1</td>\n",
       "    </tr>\n",
       "    <tr>\n",
       "      <th>2</th>\n",
       "      <td>11250</td>\n",
       "      <td>7</td>\n",
       "      <td>5</td>\n",
       "      <td>920</td>\n",
       "      <td>2</td>\n",
       "      <td>1</td>\n",
       "      <td>3</td>\n",
       "      <td>6</td>\n",
       "      <td>1</td>\n",
       "      <td>608</td>\n",
       "      <td>1</td>\n",
       "    </tr>\n",
       "    <tr>\n",
       "      <th>3</th>\n",
       "      <td>9550</td>\n",
       "      <td>7</td>\n",
       "      <td>5</td>\n",
       "      <td>756</td>\n",
       "      <td>1</td>\n",
       "      <td>0</td>\n",
       "      <td>3</td>\n",
       "      <td>7</td>\n",
       "      <td>1</td>\n",
       "      <td>642</td>\n",
       "      <td>0</td>\n",
       "    </tr>\n",
       "    <tr>\n",
       "      <th>4</th>\n",
       "      <td>14260</td>\n",
       "      <td>8</td>\n",
       "      <td>5</td>\n",
       "      <td>1145</td>\n",
       "      <td>2</td>\n",
       "      <td>1</td>\n",
       "      <td>4</td>\n",
       "      <td>9</td>\n",
       "      <td>1</td>\n",
       "      <td>836</td>\n",
       "      <td>1</td>\n",
       "    </tr>\n",
       "    <tr>\n",
       "      <th>...</th>\n",
       "      <td>...</td>\n",
       "      <td>...</td>\n",
       "      <td>...</td>\n",
       "      <td>...</td>\n",
       "      <td>...</td>\n",
       "      <td>...</td>\n",
       "      <td>...</td>\n",
       "      <td>...</td>\n",
       "      <td>...</td>\n",
       "      <td>...</td>\n",
       "      <td>...</td>\n",
       "    </tr>\n",
       "    <tr>\n",
       "      <th>1455</th>\n",
       "      <td>7917</td>\n",
       "      <td>6</td>\n",
       "      <td>5</td>\n",
       "      <td>953</td>\n",
       "      <td>2</td>\n",
       "      <td>1</td>\n",
       "      <td>3</td>\n",
       "      <td>7</td>\n",
       "      <td>1</td>\n",
       "      <td>460</td>\n",
       "      <td>1</td>\n",
       "    </tr>\n",
       "    <tr>\n",
       "      <th>1456</th>\n",
       "      <td>13175</td>\n",
       "      <td>6</td>\n",
       "      <td>6</td>\n",
       "      <td>1542</td>\n",
       "      <td>2</td>\n",
       "      <td>0</td>\n",
       "      <td>3</td>\n",
       "      <td>7</td>\n",
       "      <td>2</td>\n",
       "      <td>500</td>\n",
       "      <td>1</td>\n",
       "    </tr>\n",
       "    <tr>\n",
       "      <th>1457</th>\n",
       "      <td>9042</td>\n",
       "      <td>7</td>\n",
       "      <td>9</td>\n",
       "      <td>1152</td>\n",
       "      <td>2</td>\n",
       "      <td>0</td>\n",
       "      <td>4</td>\n",
       "      <td>9</td>\n",
       "      <td>2</td>\n",
       "      <td>252</td>\n",
       "      <td>1</td>\n",
       "    </tr>\n",
       "    <tr>\n",
       "      <th>1458</th>\n",
       "      <td>9717</td>\n",
       "      <td>5</td>\n",
       "      <td>6</td>\n",
       "      <td>1078</td>\n",
       "      <td>1</td>\n",
       "      <td>0</td>\n",
       "      <td>2</td>\n",
       "      <td>5</td>\n",
       "      <td>0</td>\n",
       "      <td>240</td>\n",
       "      <td>0</td>\n",
       "    </tr>\n",
       "    <tr>\n",
       "      <th>1459</th>\n",
       "      <td>9937</td>\n",
       "      <td>5</td>\n",
       "      <td>6</td>\n",
       "      <td>1256</td>\n",
       "      <td>1</td>\n",
       "      <td>1</td>\n",
       "      <td>3</td>\n",
       "      <td>6</td>\n",
       "      <td>0</td>\n",
       "      <td>276</td>\n",
       "      <td>0</td>\n",
       "    </tr>\n",
       "  </tbody>\n",
       "</table>\n",
       "<p>1460 rows × 11 columns</p>\n",
       "</div>"
      ],
      "text/plain": [
       "      LotArea  OverallQual  OverallCond  TotalBsmtSF  FullBath  HalfBath  \\\n",
       "0        8450            7            5          856         2         1   \n",
       "1        9600            6            8         1262         2         0   \n",
       "2       11250            7            5          920         2         1   \n",
       "3        9550            7            5          756         1         0   \n",
       "4       14260            8            5         1145         2         1   \n",
       "...       ...          ...          ...          ...       ...       ...   \n",
       "1455     7917            6            5          953         2         1   \n",
       "1456    13175            6            6         1542         2         0   \n",
       "1457     9042            7            9         1152         2         0   \n",
       "1458     9717            5            6         1078         1         0   \n",
       "1459     9937            5            6         1256         1         1   \n",
       "\n",
       "      BedroomAbvGr  TotRmsAbvGrd  Fireplaces  GarageArea  AboveMedianPrice  \n",
       "0                3             8           0         548                 1  \n",
       "1                3             6           1         460                 1  \n",
       "2                3             6           1         608                 1  \n",
       "3                3             7           1         642                 0  \n",
       "4                4             9           1         836                 1  \n",
       "...            ...           ...         ...         ...               ...  \n",
       "1455             3             7           1         460                 1  \n",
       "1456             3             7           2         500                 1  \n",
       "1457             4             9           2         252                 1  \n",
       "1458             2             5           0         240                 0  \n",
       "1459             3             6           0         276                 0  \n",
       "\n",
       "[1460 rows x 11 columns]"
      ]
     },
     "execution_count": 3,
     "metadata": {},
     "output_type": "execute_result"
    }
   ],
   "source": [
    "df"
   ]
  },
  {
   "cell_type": "code",
   "execution_count": 4,
   "metadata": {},
   "outputs": [],
   "source": [
    "dataset = df.values"
   ]
  },
  {
   "cell_type": "code",
   "execution_count": 5,
   "metadata": {},
   "outputs": [
    {
     "data": {
      "text/plain": [
       "array([[ 8450,     7,     5, ...,     0,   548,     1],\n",
       "       [ 9600,     6,     8, ...,     1,   460,     1],\n",
       "       [11250,     7,     5, ...,     1,   608,     1],\n",
       "       ...,\n",
       "       [ 9042,     7,     9, ...,     2,   252,     1],\n",
       "       [ 9717,     5,     6, ...,     0,   240,     0],\n",
       "       [ 9937,     5,     6, ...,     0,   276,     0]], dtype=int64)"
      ]
     },
     "execution_count": 5,
     "metadata": {},
     "output_type": "execute_result"
    }
   ],
   "source": [
    "dataset"
   ]
  },
  {
   "cell_type": "code",
   "execution_count": 6,
   "metadata": {},
   "outputs": [],
   "source": [
    "X = dataset[:,0:10]\n",
    "Y = dataset[:,10]"
   ]
  },
  {
   "cell_type": "code",
   "execution_count": 7,
   "metadata": {},
   "outputs": [],
   "source": [
    "from sklearn import preprocessing"
   ]
  },
  {
   "cell_type": "code",
   "execution_count": 8,
   "metadata": {},
   "outputs": [],
   "source": [
    "min_max_scaler = preprocessing.MinMaxScaler()\n",
    "X_scale = min_max_scaler.fit_transform(X)"
   ]
  },
  {
   "cell_type": "code",
   "execution_count": 9,
   "metadata": {},
   "outputs": [
    {
     "data": {
      "text/plain": [
       "array([[0.0334198 , 0.66666667, 0.5       , ..., 0.5       , 0.        ,\n",
       "        0.3864598 ],\n",
       "       [0.03879502, 0.55555556, 0.875     , ..., 0.33333333, 0.33333333,\n",
       "        0.32440056],\n",
       "       [0.04650728, 0.66666667, 0.5       , ..., 0.33333333, 0.33333333,\n",
       "        0.42877292],\n",
       "       ...,\n",
       "       [0.03618687, 0.66666667, 1.        , ..., 0.58333333, 0.66666667,\n",
       "        0.17771509],\n",
       "       [0.03934189, 0.44444444, 0.625     , ..., 0.25      , 0.        ,\n",
       "        0.16925247],\n",
       "       [0.04037019, 0.44444444, 0.625     , ..., 0.33333333, 0.        ,\n",
       "        0.19464034]])"
      ]
     },
     "execution_count": 9,
     "metadata": {},
     "output_type": "execute_result"
    }
   ],
   "source": [
    "X_scale"
   ]
  },
  {
   "cell_type": "code",
   "execution_count": 10,
   "metadata": {},
   "outputs": [],
   "source": [
    "from sklearn.model_selection import train_test_split"
   ]
  },
  {
   "cell_type": "code",
   "execution_count": 11,
   "metadata": {},
   "outputs": [],
   "source": [
    "X_train, X_val_and_test, Y_train, Y_val_and_test = train_test_split(X_scale, Y, test_size=0.3)"
   ]
  },
  {
   "cell_type": "code",
   "execution_count": 12,
   "metadata": {},
   "outputs": [],
   "source": [
    "X_val, X_test, Y_val, Y_test = train_test_split(X_val_and_test, Y_val_and_test, test_size=0.5)"
   ]
  },
  {
   "cell_type": "code",
   "execution_count": 13,
   "metadata": {},
   "outputs": [
    {
     "name": "stdout",
     "output_type": "stream",
     "text": [
      "(1022, 10) (219, 10) (219, 10) (1022,) (219,) (219,)\n"
     ]
    }
   ],
   "source": [
    "print(X_train.shape, X_val.shape, X_test.shape, Y_train.shape, Y_val.shape, Y_test.shape)"
   ]
  },
  {
   "cell_type": "code",
   "execution_count": 14,
   "metadata": {},
   "outputs": [],
   "source": [
    "from keras.models import Sequential\n",
    "from keras.layers import Dense"
   ]
  },
  {
   "cell_type": "code",
   "execution_count": 15,
   "metadata": {},
   "outputs": [],
   "source": [
    "model = Sequential([\n",
    "    Dense(32, activation='relu', input_shape=(10,)),\n",
    "    Dense(32, activation='relu'),\n",
    "    Dense(1, activation='sigmoid'),\n",
    "])"
   ]
  },
  {
   "cell_type": "code",
   "execution_count": 16,
   "metadata": {},
   "outputs": [],
   "source": [
    "model.compile(optimizer='sgd',\n",
    "              loss='binary_crossentropy',\n",
    "              metrics=['accuracy'])"
   ]
  },
  {
   "cell_type": "code",
   "execution_count": 17,
   "metadata": {},
   "outputs": [
    {
     "name": "stdout",
     "output_type": "stream",
     "text": [
      "Epoch 1/100\n",
      "32/32 [==============================] - 0s 4ms/step - loss: 0.6865 - accuracy: 0.6311 - val_loss: 0.6878 - val_accuracy: 0.5342\n",
      "Epoch 2/100\n",
      "32/32 [==============================] - 0s 976us/step - loss: 0.6794 - accuracy: 0.6164 - val_loss: 0.6837 - val_accuracy: 0.5297\n",
      "Epoch 3/100\n",
      "32/32 [==============================] - 0s 992us/step - loss: 0.6728 - accuracy: 0.6301 - val_loss: 0.6799 - val_accuracy: 0.5251\n",
      "Epoch 4/100\n",
      "32/32 [==============================] - 0s 1ms/step - loss: 0.6670 - accuracy: 0.6468 - val_loss: 0.6763 - val_accuracy: 0.5708\n",
      "Epoch 5/100\n",
      "32/32 [==============================] - 0s 1ms/step - loss: 0.6618 - accuracy: 0.6526 - val_loss: 0.6723 - val_accuracy: 0.6119\n",
      "Epoch 6/100\n",
      "32/32 [==============================] - 0s 992us/step - loss: 0.6567 - accuracy: 0.7025 - val_loss: 0.6685 - val_accuracy: 0.6119\n",
      "Epoch 7/100\n",
      "32/32 [==============================] - 0s 992us/step - loss: 0.6515 - accuracy: 0.7172 - val_loss: 0.6642 - val_accuracy: 0.6438\n",
      "Epoch 8/100\n",
      "32/32 [==============================] - 0s 992us/step - loss: 0.6462 - accuracy: 0.7446 - val_loss: 0.6598 - val_accuracy: 0.6530\n",
      "Epoch 9/100\n",
      "32/32 [==============================] - 0s 992us/step - loss: 0.6408 - accuracy: 0.7378 - val_loss: 0.6548 - val_accuracy: 0.6804\n",
      "Epoch 10/100\n",
      "32/32 [==============================] - 0s 992us/step - loss: 0.6353 - accuracy: 0.7593 - val_loss: 0.6498 - val_accuracy: 0.6895\n",
      "Epoch 11/100\n",
      "32/32 [==============================] - 0s 976us/step - loss: 0.6299 - accuracy: 0.7691 - val_loss: 0.6452 - val_accuracy: 0.6941\n",
      "Epoch 12/100\n",
      "32/32 [==============================] - 0s 992us/step - loss: 0.6241 - accuracy: 0.7710 - val_loss: 0.6397 - val_accuracy: 0.7032\n",
      "Epoch 13/100\n",
      "32/32 [==============================] - 0s 992us/step - loss: 0.6181 - accuracy: 0.7671 - val_loss: 0.6338 - val_accuracy: 0.7215\n",
      "Epoch 14/100\n",
      "32/32 [==============================] - 0s 976us/step - loss: 0.6119 - accuracy: 0.7769 - val_loss: 0.6279 - val_accuracy: 0.7443\n",
      "Epoch 15/100\n",
      "32/32 [==============================] - 0s 992us/step - loss: 0.6056 - accuracy: 0.7926 - val_loss: 0.6224 - val_accuracy: 0.7352\n",
      "Epoch 16/100\n",
      "32/32 [==============================] - 0s 992us/step - loss: 0.5986 - accuracy: 0.7916 - val_loss: 0.6167 - val_accuracy: 0.7443\n",
      "Epoch 17/100\n",
      "32/32 [==============================] - 0s 1ms/step - loss: 0.5918 - accuracy: 0.8004 - val_loss: 0.6110 - val_accuracy: 0.7397\n",
      "Epoch 18/100\n",
      "32/32 [==============================] - 0s 1ms/step - loss: 0.5843 - accuracy: 0.7984 - val_loss: 0.6038 - val_accuracy: 0.7626\n",
      "Epoch 19/100\n",
      "32/32 [==============================] - 0s 992us/step - loss: 0.5767 - accuracy: 0.7994 - val_loss: 0.5959 - val_accuracy: 0.7854\n",
      "Epoch 20/100\n",
      "32/32 [==============================] - 0s 992us/step - loss: 0.5688 - accuracy: 0.8102 - val_loss: 0.5893 - val_accuracy: 0.7854\n",
      "Epoch 21/100\n",
      "32/32 [==============================] - 0s 960us/step - loss: 0.5606 - accuracy: 0.8131 - val_loss: 0.5813 - val_accuracy: 0.7854\n",
      "Epoch 22/100\n",
      "32/32 [==============================] - 0s 992us/step - loss: 0.5520 - accuracy: 0.8131 - val_loss: 0.5733 - val_accuracy: 0.7854\n",
      "Epoch 23/100\n",
      "32/32 [==============================] - 0s 960us/step - loss: 0.5433 - accuracy: 0.8141 - val_loss: 0.5654 - val_accuracy: 0.7808\n",
      "Epoch 24/100\n",
      "32/32 [==============================] - 0s 976us/step - loss: 0.5342 - accuracy: 0.8209 - val_loss: 0.5561 - val_accuracy: 0.7900\n",
      "Epoch 25/100\n",
      "32/32 [==============================] - 0s 992us/step - loss: 0.5251 - accuracy: 0.8219 - val_loss: 0.5488 - val_accuracy: 0.7900\n",
      "Epoch 26/100\n",
      "32/32 [==============================] - 0s 976us/step - loss: 0.5160 - accuracy: 0.8200 - val_loss: 0.5400 - val_accuracy: 0.8082\n",
      "Epoch 27/100\n",
      "32/32 [==============================] - 0s 1ms/step - loss: 0.5065 - accuracy: 0.8219 - val_loss: 0.5311 - val_accuracy: 0.8174\n",
      "Epoch 28/100\n",
      "32/32 [==============================] - 0s 960us/step - loss: 0.4973 - accuracy: 0.8268 - val_loss: 0.5212 - val_accuracy: 0.8174\n",
      "Epoch 29/100\n",
      "32/32 [==============================] - 0s 960us/step - loss: 0.4879 - accuracy: 0.8317 - val_loss: 0.5127 - val_accuracy: 0.8174\n",
      "Epoch 30/100\n",
      "32/32 [==============================] - 0s 976us/step - loss: 0.4788 - accuracy: 0.8317 - val_loss: 0.5033 - val_accuracy: 0.8174\n",
      "Epoch 31/100\n",
      "32/32 [==============================] - 0s 960us/step - loss: 0.4697 - accuracy: 0.8366 - val_loss: 0.4969 - val_accuracy: 0.8311\n",
      "Epoch 32/100\n",
      "32/32 [==============================] - 0s 960us/step - loss: 0.4611 - accuracy: 0.8395 - val_loss: 0.4870 - val_accuracy: 0.8219\n",
      "Epoch 33/100\n",
      "32/32 [==============================] - 0s 960us/step - loss: 0.4526 - accuracy: 0.8415 - val_loss: 0.4774 - val_accuracy: 0.8219\n",
      "Epoch 34/100\n",
      "32/32 [==============================] - 0s 960us/step - loss: 0.4442 - accuracy: 0.8444 - val_loss: 0.4690 - val_accuracy: 0.8219\n",
      "Epoch 35/100\n",
      "32/32 [==============================] - 0s 976us/step - loss: 0.4362 - accuracy: 0.8503 - val_loss: 0.4624 - val_accuracy: 0.8311\n",
      "Epoch 36/100\n",
      "32/32 [==============================] - 0s 1ms/step - loss: 0.4285 - accuracy: 0.8493 - val_loss: 0.4536 - val_accuracy: 0.8356\n",
      "Epoch 37/100\n",
      "32/32 [==============================] - 0s 976us/step - loss: 0.4210 - accuracy: 0.8532 - val_loss: 0.4469 - val_accuracy: 0.8311\n",
      "Epoch 38/100\n",
      "32/32 [==============================] - 0s 976us/step - loss: 0.4136 - accuracy: 0.8601 - val_loss: 0.4397 - val_accuracy: 0.8402\n",
      "Epoch 39/100\n",
      "32/32 [==============================] - 0s 976us/step - loss: 0.4067 - accuracy: 0.8611 - val_loss: 0.4314 - val_accuracy: 0.8493\n",
      "Epoch 40/100\n",
      "32/32 [==============================] - 0s 944us/step - loss: 0.4001 - accuracy: 0.8601 - val_loss: 0.4288 - val_accuracy: 0.8447\n",
      "Epoch 41/100\n",
      "32/32 [==============================] - 0s 944us/step - loss: 0.3938 - accuracy: 0.8591 - val_loss: 0.4191 - val_accuracy: 0.8493\n",
      "Epoch 42/100\n",
      "32/32 [==============================] - 0s 944us/step - loss: 0.3876 - accuracy: 0.8659 - val_loss: 0.4170 - val_accuracy: 0.8584\n",
      "Epoch 43/100\n",
      "32/32 [==============================] - 0s 960us/step - loss: 0.3817 - accuracy: 0.8669 - val_loss: 0.4053 - val_accuracy: 0.8630\n",
      "Epoch 44/100\n",
      "32/32 [==============================] - 0s 992us/step - loss: 0.3766 - accuracy: 0.8728 - val_loss: 0.4039 - val_accuracy: 0.8630\n",
      "Epoch 45/100\n",
      "32/32 [==============================] - 0s 976us/step - loss: 0.3711 - accuracy: 0.8699 - val_loss: 0.4012 - val_accuracy: 0.8584\n",
      "Epoch 46/100\n",
      "32/32 [==============================] - 0s 992us/step - loss: 0.3665 - accuracy: 0.8689 - val_loss: 0.3911 - val_accuracy: 0.8630\n",
      "Epoch 47/100\n",
      "32/32 [==============================] - 0s 960us/step - loss: 0.3621 - accuracy: 0.8767 - val_loss: 0.3872 - val_accuracy: 0.8630\n",
      "Epoch 48/100\n",
      "32/32 [==============================] - 0s 960us/step - loss: 0.3575 - accuracy: 0.8748 - val_loss: 0.3869 - val_accuracy: 0.8721\n",
      "Epoch 49/100\n",
      "32/32 [==============================] - 0s 960us/step - loss: 0.3538 - accuracy: 0.8748 - val_loss: 0.3800 - val_accuracy: 0.8676\n",
      "Epoch 50/100\n",
      "32/32 [==============================] - 0s 976us/step - loss: 0.3497 - accuracy: 0.8777 - val_loss: 0.3742 - val_accuracy: 0.8630\n",
      "Epoch 51/100\n",
      "32/32 [==============================] - 0s 960us/step - loss: 0.3460 - accuracy: 0.8748 - val_loss: 0.3713 - val_accuracy: 0.8721\n",
      "Epoch 52/100\n",
      "32/32 [==============================] - 0s 992us/step - loss: 0.3424 - accuracy: 0.8757 - val_loss: 0.3677 - val_accuracy: 0.8721\n",
      "Epoch 53/100\n",
      "32/32 [==============================] - 0s 992us/step - loss: 0.3390 - accuracy: 0.8787 - val_loss: 0.3650 - val_accuracy: 0.8676\n",
      "Epoch 54/100\n",
      "32/32 [==============================] - 0s 960us/step - loss: 0.3359 - accuracy: 0.8796 - val_loss: 0.3640 - val_accuracy: 0.8767\n",
      "Epoch 55/100\n",
      "32/32 [==============================] - 0s 976us/step - loss: 0.3330 - accuracy: 0.8787 - val_loss: 0.3587 - val_accuracy: 0.8676\n",
      "Epoch 56/100\n",
      "32/32 [==============================] - 0s 960us/step - loss: 0.3301 - accuracy: 0.8748 - val_loss: 0.3576 - val_accuracy: 0.8767\n",
      "Epoch 57/100\n",
      "32/32 [==============================] - 0s 960us/step - loss: 0.3275 - accuracy: 0.8767 - val_loss: 0.3567 - val_accuracy: 0.8813\n",
      "Epoch 58/100\n"
     ]
    },
    {
     "name": "stdout",
     "output_type": "stream",
     "text": [
      "32/32 [==============================] - 0s 976us/step - loss: 0.3250 - accuracy: 0.8748 - val_loss: 0.3537 - val_accuracy: 0.8813\n",
      "Epoch 59/100\n",
      "32/32 [==============================] - 0s 976us/step - loss: 0.3226 - accuracy: 0.8767 - val_loss: 0.3497 - val_accuracy: 0.8721\n",
      "Epoch 60/100\n",
      "32/32 [==============================] - 0s 960us/step - loss: 0.3203 - accuracy: 0.8787 - val_loss: 0.3505 - val_accuracy: 0.8813\n",
      "Epoch 61/100\n",
      "32/32 [==============================] - 0s 960us/step - loss: 0.3186 - accuracy: 0.8806 - val_loss: 0.3460 - val_accuracy: 0.8767\n",
      "Epoch 62/100\n",
      "32/32 [==============================] - 0s 944us/step - loss: 0.3161 - accuracy: 0.8787 - val_loss: 0.3406 - val_accuracy: 0.8630\n",
      "Epoch 63/100\n",
      "32/32 [==============================] - 0s 976us/step - loss: 0.3144 - accuracy: 0.8777 - val_loss: 0.3404 - val_accuracy: 0.8676\n",
      "Epoch 64/100\n",
      "32/32 [==============================] - 0s 960us/step - loss: 0.3127 - accuracy: 0.8796 - val_loss: 0.3372 - val_accuracy: 0.8630\n",
      "Epoch 65/100\n",
      "32/32 [==============================] - 0s 960us/step - loss: 0.3103 - accuracy: 0.8816 - val_loss: 0.3375 - val_accuracy: 0.8721\n",
      "Epoch 66/100\n",
      "32/32 [==============================] - 0s 960us/step - loss: 0.3093 - accuracy: 0.8806 - val_loss: 0.3355 - val_accuracy: 0.8721\n",
      "Epoch 67/100\n",
      "32/32 [==============================] - 0s 960us/step - loss: 0.3073 - accuracy: 0.8826 - val_loss: 0.3360 - val_accuracy: 0.8767\n",
      "Epoch 68/100\n",
      "32/32 [==============================] - 0s 992us/step - loss: 0.3058 - accuracy: 0.8796 - val_loss: 0.3315 - val_accuracy: 0.8676\n",
      "Epoch 69/100\n",
      "32/32 [==============================] - 0s 960us/step - loss: 0.3046 - accuracy: 0.8836 - val_loss: 0.3327 - val_accuracy: 0.8767\n",
      "Epoch 70/100\n",
      "32/32 [==============================] - 0s 960us/step - loss: 0.3030 - accuracy: 0.8845 - val_loss: 0.3291 - val_accuracy: 0.8721\n",
      "Epoch 71/100\n",
      "32/32 [==============================] - 0s 976us/step - loss: 0.3016 - accuracy: 0.8836 - val_loss: 0.3277 - val_accuracy: 0.8721\n",
      "Epoch 72/100\n",
      "32/32 [==============================] - 0s 960us/step - loss: 0.3002 - accuracy: 0.8845 - val_loss: 0.3309 - val_accuracy: 0.8676\n",
      "Epoch 73/100\n",
      "32/32 [==============================] - 0s 976us/step - loss: 0.2990 - accuracy: 0.8826 - val_loss: 0.3257 - val_accuracy: 0.8721\n",
      "Epoch 74/100\n",
      "32/32 [==============================] - 0s 960us/step - loss: 0.2977 - accuracy: 0.8836 - val_loss: 0.3262 - val_accuracy: 0.8721\n",
      "Epoch 75/100\n",
      "32/32 [==============================] - 0s 976us/step - loss: 0.2963 - accuracy: 0.8826 - val_loss: 0.3292 - val_accuracy: 0.8676\n",
      "Epoch 76/100\n",
      "32/32 [==============================] - 0s 960us/step - loss: 0.2961 - accuracy: 0.8796 - val_loss: 0.3227 - val_accuracy: 0.8721\n",
      "Epoch 77/100\n",
      "32/32 [==============================] - 0s 976us/step - loss: 0.2945 - accuracy: 0.8806 - val_loss: 0.3247 - val_accuracy: 0.8676\n",
      "Epoch 78/100\n",
      "32/32 [==============================] - 0s 976us/step - loss: 0.2938 - accuracy: 0.8816 - val_loss: 0.3216 - val_accuracy: 0.8721\n",
      "Epoch 79/100\n",
      "32/32 [==============================] - 0s 960us/step - loss: 0.2925 - accuracy: 0.8806 - val_loss: 0.3205 - val_accuracy: 0.8676\n",
      "Epoch 80/100\n",
      "32/32 [==============================] - 0s 960us/step - loss: 0.2911 - accuracy: 0.8865 - val_loss: 0.3186 - val_accuracy: 0.8676\n",
      "Epoch 81/100\n",
      "32/32 [==============================] - 0s 976us/step - loss: 0.2905 - accuracy: 0.8836 - val_loss: 0.3157 - val_accuracy: 0.8721\n",
      "Epoch 82/100\n",
      "32/32 [==============================] - 0s 960us/step - loss: 0.2892 - accuracy: 0.8885 - val_loss: 0.3174 - val_accuracy: 0.8676\n",
      "Epoch 83/100\n",
      "32/32 [==============================] - 0s 976us/step - loss: 0.2882 - accuracy: 0.8865 - val_loss: 0.3204 - val_accuracy: 0.8676\n",
      "Epoch 84/100\n",
      "32/32 [==============================] - 0s 992us/step - loss: 0.2868 - accuracy: 0.8865 - val_loss: 0.3115 - val_accuracy: 0.8676\n",
      "Epoch 85/100\n",
      "32/32 [==============================] - 0s 992us/step - loss: 0.2866 - accuracy: 0.8865 - val_loss: 0.3153 - val_accuracy: 0.8630\n",
      "Epoch 86/100\n",
      "32/32 [==============================] - 0s 976us/step - loss: 0.2865 - accuracy: 0.8855 - val_loss: 0.3135 - val_accuracy: 0.8676\n",
      "Epoch 87/100\n",
      "32/32 [==============================] - 0s 992us/step - loss: 0.2848 - accuracy: 0.8855 - val_loss: 0.3106 - val_accuracy: 0.8721\n",
      "Epoch 88/100\n",
      "32/32 [==============================] - 0s 1ms/step - loss: 0.2841 - accuracy: 0.8885 - val_loss: 0.3118 - val_accuracy: 0.8676\n",
      "Epoch 89/100\n",
      "32/32 [==============================] - 0s 992us/step - loss: 0.2830 - accuracy: 0.8885 - val_loss: 0.3159 - val_accuracy: 0.8676\n",
      "Epoch 90/100\n",
      "32/32 [==============================] - 0s 976us/step - loss: 0.2826 - accuracy: 0.8885 - val_loss: 0.3082 - val_accuracy: 0.8721\n",
      "Epoch 91/100\n",
      "32/32 [==============================] - 0s 976us/step - loss: 0.2814 - accuracy: 0.8865 - val_loss: 0.3042 - val_accuracy: 0.8630\n",
      "Epoch 92/100\n",
      "32/32 [==============================] - 0s 992us/step - loss: 0.2815 - accuracy: 0.8894 - val_loss: 0.3067 - val_accuracy: 0.8721\n",
      "Epoch 93/100\n",
      "32/32 [==============================] - 0s 976us/step - loss: 0.2807 - accuracy: 0.8875 - val_loss: 0.3042 - val_accuracy: 0.8767\n",
      "Epoch 94/100\n",
      "32/32 [==============================] - 0s 976us/step - loss: 0.2798 - accuracy: 0.8855 - val_loss: 0.3113 - val_accuracy: 0.8676\n",
      "Epoch 95/100\n",
      "32/32 [==============================] - 0s 976us/step - loss: 0.2788 - accuracy: 0.8855 - val_loss: 0.3045 - val_accuracy: 0.8721\n",
      "Epoch 96/100\n",
      "32/32 [==============================] - 0s 960us/step - loss: 0.2778 - accuracy: 0.8914 - val_loss: 0.3097 - val_accuracy: 0.8676\n",
      "Epoch 97/100\n",
      "32/32 [==============================] - 0s 976us/step - loss: 0.2760 - accuracy: 0.8904 - val_loss: 0.2990 - val_accuracy: 0.8630\n",
      "Epoch 98/100\n",
      "32/32 [==============================] - 0s 992us/step - loss: 0.2777 - accuracy: 0.8904 - val_loss: 0.2991 - val_accuracy: 0.8676\n",
      "Epoch 99/100\n",
      "32/32 [==============================] - 0s 992us/step - loss: 0.2767 - accuracy: 0.8855 - val_loss: 0.3012 - val_accuracy: 0.8767\n",
      "Epoch 100/100\n",
      "32/32 [==============================] - 0s 992us/step - loss: 0.2756 - accuracy: 0.8885 - val_loss: 0.3005 - val_accuracy: 0.8813\n"
     ]
    }
   ],
   "source": [
    "hist = model.fit(X_train, Y_train,\n",
    "          batch_size=32, epochs=100,\n",
    "          validation_data=(X_val, Y_val))"
   ]
  },
  {
   "cell_type": "code",
   "execution_count": 18,
   "metadata": {},
   "outputs": [
    {
     "name": "stdout",
     "output_type": "stream",
     "text": [
      "7/7 [==============================] - 0s 579us/step - loss: 0.3256 - accuracy: 0.8493\n"
     ]
    },
    {
     "data": {
      "text/plain": [
       "0.8493150472640991"
      ]
     },
     "execution_count": 18,
     "metadata": {},
     "output_type": "execute_result"
    }
   ],
   "source": [
    "model.evaluate(X_test, Y_test)[1]"
   ]
  },
  {
   "cell_type": "code",
   "execution_count": 19,
   "metadata": {},
   "outputs": [],
   "source": [
    "import matplotlib.pyplot as plt"
   ]
  },
  {
   "cell_type": "code",
   "execution_count": 20,
   "metadata": {},
   "outputs": [
    {
     "data": {
      "image/png": "[encoded data removed]",
      "text/plain": [
       "<Figure size 432x288 with 1 Axes>"
      ]
     },
     "metadata": {
      "needs_background": "light"
     },
     "output_type": "display_data"
    }
   ],
   "source": [
    "plt.plot(hist.history['loss'])\n",
    "plt.plot(hist.history['val_loss'])\n",
    "plt.title('Model loss')\n",
    "plt.ylabel('Loss')\n",
    "plt.xlabel('Epoch')\n",
    "plt.legend(['Train', 'Val'], loc='upper right')\n",
    "plt.show()"
   ]
  },
  {
   "cell_type": "code",
   "execution_count": 21,
   "metadata": {},
   "outputs": [
    {
     "ename": "KeyError",
     "evalue": "'acc'",
     "output_type": "error",
     "traceback": [
      "\u001b[1;31m---------------------------------------------------------------------------\u001b[0m",
      "\u001b[1;31mKeyError\u001b[0m                                  Traceback (most recent call last)",
      "\u001b[1;32m<ipython-input-21-84d24d69b6e4>\u001b[0m in \u001b[0;36m<module>\u001b[1;34m\u001b[0m\n\u001b[1;32m----> 1\u001b[1;33m \u001b[0mplt\u001b[0m\u001b[1;33m.\u001b[0m\u001b[0mplot\u001b[0m\u001b[1;33m(\u001b[0m\u001b[0mhist\u001b[0m\u001b[1;33m.\u001b[0m\u001b[0mhistory\u001b[0m\u001b[1;33m[\u001b[0m\u001b[1;34m'acc'\u001b[0m\u001b[1;33m]\u001b[0m\u001b[1;33m)\u001b[0m\u001b[1;33m\u001b[0m\u001b[1;33m\u001b[0m\u001b[0m\n\u001b[0m\u001b[0;32m      2\u001b[0m \u001b[0mplt\u001b[0m\u001b[1;33m.\u001b[0m\u001b[0mplot\u001b[0m\u001b[1;33m(\u001b[0m\u001b[0mhist\u001b[0m\u001b[1;33m.\u001b[0m\u001b[0mhistory\u001b[0m\u001b[1;33m[\u001b[0m\u001b[1;34m'val_acc'\u001b[0m\u001b[1;33m]\u001b[0m\u001b[1;33m)\u001b[0m\u001b[1;33m\u001b[0m\u001b[1;33m\u001b[0m\u001b[0m\n\u001b[0;32m      3\u001b[0m \u001b[0mplt\u001b[0m\u001b[1;33m.\u001b[0m\u001b[0mtitle\u001b[0m\u001b[1;33m(\u001b[0m\u001b[1;34m'Model accuracy'\u001b[0m\u001b[1;33m)\u001b[0m\u001b[1;33m\u001b[0m\u001b[1;33m\u001b[0m\u001b[0m\n\u001b[0;32m      4\u001b[0m \u001b[0mplt\u001b[0m\u001b[1;33m.\u001b[0m\u001b[0mylabel\u001b[0m\u001b[1;33m(\u001b[0m\u001b[1;34m'Accuracy'\u001b[0m\u001b[1;33m)\u001b[0m\u001b[1;33m\u001b[0m\u001b[1;33m\u001b[0m\u001b[0m\n\u001b[0;32m      5\u001b[0m \u001b[0mplt\u001b[0m\u001b[1;33m.\u001b[0m\u001b[0mxlabel\u001b[0m\u001b[1;33m(\u001b[0m\u001b[1;34m'Epoch'\u001b[0m\u001b[1;33m)\u001b[0m\u001b[1;33m\u001b[0m\u001b[1;33m\u001b[0m\u001b[0m\n",
      "\u001b[1;31mKeyError\u001b[0m: 'acc'"
     ]
    }
   ],
   "source": [
    "plt.plot(hist.history['acc'])\n",
    "plt.plot(hist.history['val_acc'])\n",
    "plt.title('Model accuracy')\n",
    "plt.ylabel('Accuracy')\n",
    "plt.xlabel('Epoch')\n",
    "plt.legend(['Train', 'Val'], loc='lower right')\n",
    "plt.show()"
   ]
  },
  {
   "cell_type": "code",
   "execution_count": 22,
   "metadata": {},
   "outputs": [
    {
     "data": {
      "image/png": "[encoded data removed]",
      "text/plain": [
       "<Figure size 432x288 with 1 Axes>"
      ]
     },
     "metadata": {
      "needs_background": "light"
     },
     "output_type": "display_data"
    }
   ],
   "source": [
    "plt.plot(hist.history['accuracy'])\n",
    "plt.plot(hist.history['val_accuracy'])\n",
    "plt.title('Model accuracy')\n",
    "plt.ylabel('Accuracy')\n",
    "plt.xlabel('Epoch')\n",
    "plt.legend(['Train', 'Val'], loc='lower right')\n",
    "plt.show()"
   ]
  },
  {
   "cell_type": "code",
   "execution_count": 23,
   "metadata": {},
   "outputs": [
    {
     "name": "stdout",
     "output_type": "stream",
     "text": [
      "Epoch 1/100\n",
      "32/32 [==============================] - 1s 14ms/step - loss: 0.4642 - accuracy: 0.7896 - val_loss: 0.3613 - val_accuracy: 0.8402\n",
      "Epoch 2/100\n",
      "32/32 [==============================] - 0s 12ms/step - loss: 0.3405 - accuracy: 0.8630 - val_loss: 0.3323 - val_accuracy: 0.8539\n",
      "Epoch 3/100\n",
      "32/32 [==============================] - 0s 12ms/step - loss: 0.3271 - accuracy: 0.8669 - val_loss: 0.2975 - val_accuracy: 0.8630\n",
      "Epoch 4/100\n",
      "32/32 [==============================] - 0s 12ms/step - loss: 0.2776 - accuracy: 0.8914 - val_loss: 0.2762 - val_accuracy: 0.8721\n",
      "Epoch 5/100\n",
      "32/32 [==============================] - 0s 12ms/step - loss: 0.2899 - accuracy: 0.8953 - val_loss: 0.2983 - val_accuracy: 0.8584\n",
      "Epoch 6/100\n",
      "32/32 [==============================] - 0s 12ms/step - loss: 0.2710 - accuracy: 0.8894 - val_loss: 0.2858 - val_accuracy: 0.8813\n",
      "Epoch 7/100\n",
      "32/32 [==============================] - 0s 12ms/step - loss: 0.2785 - accuracy: 0.8904 - val_loss: 0.2767 - val_accuracy: 0.8676\n",
      "Epoch 8/100\n",
      "32/32 [==============================] - 0s 12ms/step - loss: 0.2524 - accuracy: 0.9002 - val_loss: 0.2799 - val_accuracy: 0.8721\n",
      "Epoch 9/100\n",
      "32/32 [==============================] - 0s 12ms/step - loss: 0.2568 - accuracy: 0.9061 - val_loss: 0.3122 - val_accuracy: 0.8630\n",
      "Epoch 10/100\n",
      "32/32 [==============================] - 0s 12ms/step - loss: 0.2446 - accuracy: 0.9022 - val_loss: 0.2385 - val_accuracy: 0.9041\n",
      "Epoch 11/100\n",
      "32/32 [==============================] - 0s 12ms/step - loss: 0.2346 - accuracy: 0.9129 - val_loss: 0.2604 - val_accuracy: 0.8904\n",
      "Epoch 12/100\n",
      "32/32 [==============================] - 0s 12ms/step - loss: 0.2430 - accuracy: 0.8943 - val_loss: 0.2621 - val_accuracy: 0.8767\n",
      "Epoch 13/100\n",
      "32/32 [==============================] - 0s 12ms/step - loss: 0.2276 - accuracy: 0.9041 - val_loss: 0.2909 - val_accuracy: 0.8904\n",
      "Epoch 14/100\n",
      "32/32 [==============================] - 0s 12ms/step - loss: 0.2185 - accuracy: 0.9080 - val_loss: 0.2513 - val_accuracy: 0.8950\n",
      "Epoch 15/100\n",
      "32/32 [==============================] - 0s 12ms/step - loss: 0.2244 - accuracy: 0.9012 - val_loss: 0.3652 - val_accuracy: 0.8767\n",
      "Epoch 16/100\n",
      "32/32 [==============================] - 0s 12ms/step - loss: 0.2276 - accuracy: 0.9080 - val_loss: 0.2831 - val_accuracy: 0.8858\n",
      "Epoch 17/100\n",
      "32/32 [==============================] - 0s 12ms/step - loss: 0.2124 - accuracy: 0.9070 - val_loss: 0.2783 - val_accuracy: 0.8721\n",
      "Epoch 18/100\n",
      "32/32 [==============================] - 0s 12ms/step - loss: 0.2246 - accuracy: 0.9051 - val_loss: 0.2534 - val_accuracy: 0.8813\n",
      "Epoch 19/100\n",
      "32/32 [==============================] - 0s 12ms/step - loss: 0.2204 - accuracy: 0.9022 - val_loss: 0.2603 - val_accuracy: 0.8950\n",
      "Epoch 20/100\n",
      "32/32 [==============================] - 0s 12ms/step - loss: 0.2044 - accuracy: 0.9149 - val_loss: 0.2548 - val_accuracy: 0.8950\n",
      "Epoch 21/100\n",
      "32/32 [==============================] - 0s 12ms/step - loss: 0.1939 - accuracy: 0.9188 - val_loss: 0.2580 - val_accuracy: 0.9041\n",
      "Epoch 22/100\n",
      "32/32 [==============================] - 0s 12ms/step - loss: 0.1984 - accuracy: 0.9198 - val_loss: 0.2858 - val_accuracy: 0.8858\n",
      "Epoch 23/100\n",
      "32/32 [==============================] - 0s 12ms/step - loss: 0.2276 - accuracy: 0.9070 - val_loss: 0.3218 - val_accuracy: 0.8858\n",
      "Epoch 24/100\n",
      "32/32 [==============================] - 0s 12ms/step - loss: 0.2027 - accuracy: 0.9129 - val_loss: 0.3288 - val_accuracy: 0.9041\n",
      "Epoch 25/100\n",
      "32/32 [==============================] - 0s 12ms/step - loss: 0.2081 - accuracy: 0.9139 - val_loss: 0.2680 - val_accuracy: 0.9041\n",
      "Epoch 26/100\n",
      "32/32 [==============================] - 0s 12ms/step - loss: 0.1911 - accuracy: 0.9217 - val_loss: 0.2506 - val_accuracy: 0.8950\n",
      "Epoch 27/100\n",
      "32/32 [==============================] - 0s 12ms/step - loss: 0.1999 - accuracy: 0.9217 - val_loss: 0.2763 - val_accuracy: 0.8767\n",
      "Epoch 28/100\n",
      "32/32 [==============================] - 0s 12ms/step - loss: 0.1857 - accuracy: 0.9237 - val_loss: 0.2912 - val_accuracy: 0.8995\n",
      "Epoch 29/100\n",
      "32/32 [==============================] - 0s 12ms/step - loss: 0.2067 - accuracy: 0.9149 - val_loss: 0.3141 - val_accuracy: 0.8995\n",
      "Epoch 30/100\n",
      "32/32 [==============================] - 0s 12ms/step - loss: 0.2059 - accuracy: 0.9188 - val_loss: 0.2861 - val_accuracy: 0.8858\n",
      "Epoch 31/100\n",
      "32/32 [==============================] - 0s 12ms/step - loss: 0.2087 - accuracy: 0.9139 - val_loss: 0.2847 - val_accuracy: 0.8995\n",
      "Epoch 32/100\n",
      "32/32 [==============================] - 0s 12ms/step - loss: 0.1736 - accuracy: 0.9217 - val_loss: 0.2771 - val_accuracy: 0.8904\n",
      "Epoch 33/100\n",
      "32/32 [==============================] - 0s 12ms/step - loss: 0.1863 - accuracy: 0.9217 - val_loss: 0.2521 - val_accuracy: 0.9041\n",
      "Epoch 34/100\n",
      "32/32 [==============================] - 0s 12ms/step - loss: 0.1766 - accuracy: 0.9207 - val_loss: 0.2755 - val_accuracy: 0.8858\n",
      "Epoch 35/100\n",
      "32/32 [==============================] - 0s 12ms/step - loss: 0.1851 - accuracy: 0.9266 - val_loss: 0.2822 - val_accuracy: 0.8995\n",
      "Epoch 36/100\n",
      "32/32 [==============================] - 0s 12ms/step - loss: 0.1806 - accuracy: 0.9227 - val_loss: 0.3381 - val_accuracy: 0.8950\n",
      "Epoch 37/100\n",
      "32/32 [==============================] - 0s 12ms/step - loss: 0.2020 - accuracy: 0.9139 - val_loss: 0.2590 - val_accuracy: 0.8995\n",
      "Epoch 38/100\n",
      "32/32 [==============================] - 0s 12ms/step - loss: 0.1626 - accuracy: 0.9286 - val_loss: 0.2659 - val_accuracy: 0.9041\n",
      "Epoch 39/100\n",
      "32/32 [==============================] - 0s 12ms/step - loss: 0.1676 - accuracy: 0.9286 - val_loss: 0.2807 - val_accuracy: 0.9041\n",
      "Epoch 40/100\n",
      "32/32 [==============================] - 0s 12ms/step - loss: 0.1633 - accuracy: 0.9432 - val_loss: 0.2938 - val_accuracy: 0.8950\n",
      "Epoch 41/100\n",
      "32/32 [==============================] - 0s 12ms/step - loss: 0.1669 - accuracy: 0.9286 - val_loss: 0.2670 - val_accuracy: 0.8950\n",
      "Epoch 42/100\n",
      "32/32 [==============================] - 0s 12ms/step - loss: 0.1852 - accuracy: 0.9207 - val_loss: 0.2649 - val_accuracy: 0.9041\n",
      "Epoch 43/100\n",
      "32/32 [==============================] - 0s 12ms/step - loss: 0.1603 - accuracy: 0.9335 - val_loss: 0.3502 - val_accuracy: 0.8813\n",
      "Epoch 44/100\n",
      "32/32 [==============================] - 0s 12ms/step - loss: 0.1867 - accuracy: 0.9207 - val_loss: 0.2838 - val_accuracy: 0.8950\n",
      "Epoch 45/100\n",
      "32/32 [==============================] - 0s 12ms/step - loss: 0.1590 - accuracy: 0.9266 - val_loss: 0.2867 - val_accuracy: 0.8904\n",
      "Epoch 46/100\n",
      "32/32 [==============================] - 0s 12ms/step - loss: 0.1601 - accuracy: 0.9325 - val_loss: 0.2965 - val_accuracy: 0.8950\n",
      "Epoch 47/100\n",
      "32/32 [==============================] - 0s 12ms/step - loss: 0.1554 - accuracy: 0.9335 - val_loss: 0.3238 - val_accuracy: 0.8767\n",
      "Epoch 48/100\n",
      "32/32 [==============================] - 0s 12ms/step - loss: 0.1440 - accuracy: 0.9374 - val_loss: 0.3278 - val_accuracy: 0.8904\n",
      "Epoch 49/100\n",
      "32/32 [==============================] - 0s 12ms/step - loss: 0.1567 - accuracy: 0.9423 - val_loss: 0.3536 - val_accuracy: 0.8950\n",
      "Epoch 50/100\n",
      "32/32 [==============================] - 0s 12ms/step - loss: 0.1751 - accuracy: 0.9305 - val_loss: 0.3282 - val_accuracy: 0.8904\n",
      "Epoch 51/100\n",
      "32/32 [==============================] - 0s 12ms/step - loss: 0.1640 - accuracy: 0.9305 - val_loss: 0.2499 - val_accuracy: 0.9132\n",
      "Epoch 52/100\n",
      "32/32 [==============================] - 0s 12ms/step - loss: 0.1562 - accuracy: 0.9374 - val_loss: 0.2706 - val_accuracy: 0.8950\n",
      "Epoch 53/100\n",
      "32/32 [==============================] - 0s 12ms/step - loss: 0.1525 - accuracy: 0.9393 - val_loss: 0.3161 - val_accuracy: 0.8950\n",
      "Epoch 54/100\n",
      "32/32 [==============================] - 0s 12ms/step - loss: 0.1608 - accuracy: 0.9266 - val_loss: 0.3298 - val_accuracy: 0.8630\n",
      "Epoch 55/100\n",
      "32/32 [==============================] - 0s 12ms/step - loss: 0.1722 - accuracy: 0.9374 - val_loss: 0.3046 - val_accuracy: 0.8904\n",
      "Epoch 56/100\n",
      "32/32 [==============================] - 0s 12ms/step - loss: 0.1571 - accuracy: 0.9295 - val_loss: 0.3479 - val_accuracy: 0.8995\n",
      "Epoch 57/100\n",
      "32/32 [==============================] - 0s 12ms/step - loss: 0.1666 - accuracy: 0.9403 - val_loss: 0.2812 - val_accuracy: 0.8995\n",
      "Epoch 58/100\n"
     ]
    },
    {
     "name": "stdout",
     "output_type": "stream",
     "text": [
      "32/32 [==============================] - 0s 12ms/step - loss: 0.1445 - accuracy: 0.9393 - val_loss: 0.3006 - val_accuracy: 0.8950\n",
      "Epoch 59/100\n",
      "32/32 [==============================] - 0s 12ms/step - loss: 0.1514 - accuracy: 0.9393 - val_loss: 0.3534 - val_accuracy: 0.8630\n",
      "Epoch 60/100\n",
      "32/32 [==============================] - 0s 12ms/step - loss: 0.1634 - accuracy: 0.9364 - val_loss: 0.3030 - val_accuracy: 0.8858\n",
      "Epoch 61/100\n",
      "32/32 [==============================] - 0s 12ms/step - loss: 0.1446 - accuracy: 0.9442 - val_loss: 0.3215 - val_accuracy: 0.8950\n",
      "Epoch 62/100\n",
      "32/32 [==============================] - 0s 12ms/step - loss: 0.1509 - accuracy: 0.9364 - val_loss: 0.3158 - val_accuracy: 0.8858\n",
      "Epoch 63/100\n",
      "32/32 [==============================] - 0s 12ms/step - loss: 0.1439 - accuracy: 0.9354 - val_loss: 0.3525 - val_accuracy: 0.9087\n",
      "Epoch 64/100\n",
      "32/32 [==============================] - 0s 12ms/step - loss: 0.1424 - accuracy: 0.9432 - val_loss: 0.3061 - val_accuracy: 0.8995\n",
      "Epoch 65/100\n",
      "32/32 [==============================] - 0s 12ms/step - loss: 0.1275 - accuracy: 0.9521 - val_loss: 0.3516 - val_accuracy: 0.8858\n",
      "Epoch 66/100\n",
      "32/32 [==============================] - 0s 12ms/step - loss: 0.1754 - accuracy: 0.9286 - val_loss: 0.3127 - val_accuracy: 0.8676\n",
      "Epoch 67/100\n",
      "32/32 [==============================] - 0s 12ms/step - loss: 0.1567 - accuracy: 0.9364 - val_loss: 0.3482 - val_accuracy: 0.8995\n",
      "Epoch 68/100\n",
      "32/32 [==============================] - 0s 12ms/step - loss: 0.1474 - accuracy: 0.9325 - val_loss: 0.3394 - val_accuracy: 0.8904\n",
      "Epoch 69/100\n",
      "32/32 [==============================] - 0s 12ms/step - loss: 0.1248 - accuracy: 0.9481 - val_loss: 0.3738 - val_accuracy: 0.9087\n",
      "Epoch 70/100\n",
      "32/32 [==============================] - 0s 12ms/step - loss: 0.1118 - accuracy: 0.9560 - val_loss: 0.3641 - val_accuracy: 0.8995\n",
      "Epoch 71/100\n",
      "32/32 [==============================] - 0s 12ms/step - loss: 0.1285 - accuracy: 0.9452 - val_loss: 0.3409 - val_accuracy: 0.8904\n",
      "Epoch 72/100\n",
      "32/32 [==============================] - 0s 12ms/step - loss: 0.1585 - accuracy: 0.9325 - val_loss: 0.3423 - val_accuracy: 0.8995\n",
      "Epoch 73/100\n",
      "32/32 [==============================] - 0s 12ms/step - loss: 0.1730 - accuracy: 0.9295 - val_loss: 0.3372 - val_accuracy: 0.8904\n",
      "Epoch 74/100\n",
      "32/32 [==============================] - 0s 12ms/step - loss: 0.1117 - accuracy: 0.9540 - val_loss: 0.4181 - val_accuracy: 0.8995\n",
      "Epoch 75/100\n",
      "32/32 [==============================] - 0s 12ms/step - loss: 0.1126 - accuracy: 0.9491 - val_loss: 0.4212 - val_accuracy: 0.8630\n",
      "Epoch 76/100\n",
      "32/32 [==============================] - 0s 12ms/step - loss: 0.1044 - accuracy: 0.9550 - val_loss: 0.4504 - val_accuracy: 0.8904\n",
      "Epoch 77/100\n",
      "32/32 [==============================] - 0s 12ms/step - loss: 0.0980 - accuracy: 0.9638 - val_loss: 0.4648 - val_accuracy: 0.8858\n",
      "Epoch 78/100\n",
      "32/32 [==============================] - 0s 12ms/step - loss: 0.1828 - accuracy: 0.9305 - val_loss: 0.3119 - val_accuracy: 0.8721\n",
      "Epoch 79/100\n",
      "32/32 [==============================] - 0s 12ms/step - loss: 0.2158 - accuracy: 0.9070 - val_loss: 0.2895 - val_accuracy: 0.8950\n",
      "Epoch 80/100\n",
      "32/32 [==============================] - 0s 12ms/step - loss: 0.1721 - accuracy: 0.9247 - val_loss: 0.2847 - val_accuracy: 0.8813\n",
      "Epoch 81/100\n",
      "32/32 [==============================] - 0s 12ms/step - loss: 0.1347 - accuracy: 0.9442 - val_loss: 0.3529 - val_accuracy: 0.8858\n",
      "Epoch 82/100\n",
      "32/32 [==============================] - 0s 12ms/step - loss: 0.1239 - accuracy: 0.9511 - val_loss: 0.3885 - val_accuracy: 0.8858\n",
      "Epoch 83/100\n",
      "32/32 [==============================] - 0s 12ms/step - loss: 0.1351 - accuracy: 0.9413 - val_loss: 0.3582 - val_accuracy: 0.8858\n",
      "Epoch 84/100\n",
      "32/32 [==============================] - 0s 12ms/step - loss: 0.1275 - accuracy: 0.9442 - val_loss: 0.3938 - val_accuracy: 0.8767\n",
      "Epoch 85/100\n",
      "32/32 [==============================] - 0s 12ms/step - loss: 0.1097 - accuracy: 0.9599 - val_loss: 0.4043 - val_accuracy: 0.8813\n",
      "Epoch 86/100\n",
      "32/32 [==============================] - 0s 12ms/step - loss: 0.1084 - accuracy: 0.9599 - val_loss: 0.4382 - val_accuracy: 0.8995\n",
      "Epoch 87/100\n",
      "32/32 [==============================] - 0s 12ms/step - loss: 0.1212 - accuracy: 0.9511 - val_loss: 0.4387 - val_accuracy: 0.8630\n",
      "Epoch 88/100\n",
      "32/32 [==============================] - 0s 12ms/step - loss: 0.1089 - accuracy: 0.9550 - val_loss: 0.3444 - val_accuracy: 0.8858\n",
      "Epoch 89/100\n",
      "32/32 [==============================] - 0s 12ms/step - loss: 0.1088 - accuracy: 0.9501 - val_loss: 0.4433 - val_accuracy: 0.8950\n",
      "Epoch 90/100\n",
      "32/32 [==============================] - 0s 12ms/step - loss: 0.0900 - accuracy: 0.9648 - val_loss: 0.5372 - val_accuracy: 0.8813\n",
      "Epoch 91/100\n",
      "32/32 [==============================] - 0s 12ms/step - loss: 0.0877 - accuracy: 0.9658 - val_loss: 0.4788 - val_accuracy: 0.8950\n",
      "Epoch 92/100\n",
      "32/32 [==============================] - 0s 12ms/step - loss: 0.0921 - accuracy: 0.9648 - val_loss: 0.4643 - val_accuracy: 0.8813\n",
      "Epoch 93/100\n",
      "32/32 [==============================] - 0s 12ms/step - loss: 0.1024 - accuracy: 0.9609 - val_loss: 0.5283 - val_accuracy: 0.8858\n",
      "Epoch 94/100\n",
      "32/32 [==============================] - 0s 12ms/step - loss: 0.1192 - accuracy: 0.9569 - val_loss: 0.4804 - val_accuracy: 0.8676\n",
      "Epoch 95/100\n",
      "32/32 [==============================] - 0s 12ms/step - loss: 0.1041 - accuracy: 0.9540 - val_loss: 0.4461 - val_accuracy: 0.8676\n",
      "Epoch 96/100\n",
      "32/32 [==============================] - 0s 12ms/step - loss: 0.1476 - accuracy: 0.9413 - val_loss: 0.3836 - val_accuracy: 0.8767\n",
      "Epoch 97/100\n",
      "32/32 [==============================] - 0s 12ms/step - loss: 0.1135 - accuracy: 0.9511 - val_loss: 0.4938 - val_accuracy: 0.8858\n",
      "Epoch 98/100\n",
      "32/32 [==============================] - 0s 12ms/step - loss: 0.0863 - accuracy: 0.9658 - val_loss: 0.5866 - val_accuracy: 0.8630\n",
      "Epoch 99/100\n",
      "32/32 [==============================] - 0s 12ms/step - loss: 0.0851 - accuracy: 0.9716 - val_loss: 0.4963 - val_accuracy: 0.8995\n",
      "Epoch 100/100\n",
      "32/32 [==============================] - 0s 12ms/step - loss: 0.1117 - accuracy: 0.9560 - val_loss: 0.4474 - val_accuracy: 0.8950\n"
     ]
    }
   ],
   "source": [
    "model_2 = Sequential([\n",
    "    Dense(1000, activation='relu', input_shape=(10,)),\n",
    "    Dense(1000, activation='relu'),\n",
    "    Dense(1000, activation='relu'),\n",
    "    Dense(1000, activation='relu'),\n",
    "    Dense(1, activation='sigmoid'),\n",
    "])\n",
    "model_2.compile(optimizer='adam',\n",
    "              loss='binary_crossentropy',\n",
    "              metrics=['accuracy'])\n",
    "hist_2 = model_2.fit(X_train, Y_train,\n",
    "          batch_size=32, epochs=100,\n",
    "          validation_data=(X_val, Y_val))"
   ]
  },
  {
   "cell_type": "code",
   "execution_count": 24,
   "metadata": {},
   "outputs": [
    {
     "data": {
      "image/png": "[encoded data removed]",
      "text/plain": [
       "<Figure size 432x288 with 1 Axes>"
      ]
     },
     "metadata": {
      "needs_background": "light"
     },
     "output_type": "display_data"
    }
   ],
   "source": [
    "plt.plot(hist_2.history['loss'])\n",
    "plt.plot(hist_2.history['val_loss'])\n",
    "plt.title('Model loss')\n",
    "plt.ylabel('Loss')\n",
    "plt.xlabel('Epoch')\n",
    "plt.legend(['Train', 'Val'], loc='upper right')\n",
    "plt.show()"
   ]
  },
  {
   "cell_type": "code",
   "execution_count": 25,
   "metadata": {},
   "outputs": [
    {
     "data": {
      "image/png": "[encoded data removed]",
      "text/plain": [
       "<Figure size 432x288 with 1 Axes>"
      ]
     },
     "metadata": {
      "needs_background": "light"
     },
     "output_type": "display_data"
    }
   ],
   "source": [
    "plt.plot(hist_2.history['accuracy'])\n",
    "plt.plot(hist_2.history['val_accuracy'])\n",
    "plt.title('Model accuracy')\n",
    "plt.ylabel('Accuracy')\n",
    "plt.xlabel('Epoch')\n",
    "plt.legend(['Train', 'Val'], loc='lower right')\n",
    "plt.show()"
   ]
  },
  {
   "cell_type": "code",
   "execution_count": 26,
   "metadata": {},
   "outputs": [],
   "source": [
    "from keras.layers import Dropout\n",
    "from keras import regularizers"
   ]
  },
  {
   "cell_type": "code",
   "execution_count": 27,
   "metadata": {},
   "outputs": [],
   "source": [
    "model_3 = Sequential([\n",
    "    Dense(1000, activation='relu', kernel_regularizer=regularizers.l2(0.01), input_shape=(10,)),\n",
    "    Dropout(0.3),\n",
    "    Dense(1000, activation='relu', kernel_regularizer=regularizers.l2(0.01)),\n",
    "    Dropout(0.3),\n",
    "    Dense(1000, activation='relu', kernel_regularizer=regularizers.l2(0.01)),\n",
    "    Dropout(0.3),\n",
    "    Dense(1000, activation='relu', kernel_regularizer=regularizers.l2(0.01)),\n",
    "    Dropout(0.3),\n",
    "    Dense(1, activation='sigmoid', kernel_regularizer=regularizers.l2(0.01)),\n",
    "])"
   ]
  },
  {
   "cell_type": "code",
   "execution_count": 28,
   "metadata": {},
   "outputs": [
    {
     "name": "stdout",
     "output_type": "stream",
     "text": [
      "Epoch 1/100\n",
      "32/32 [==============================] - 1s 20ms/step - loss: 14.2803 - accuracy: 0.6018 - val_loss: 4.0107 - val_accuracy: 0.5023\n",
      "Epoch 2/100\n",
      "32/32 [==============================] - 1s 17ms/step - loss: 1.6857 - accuracy: 0.8268 - val_loss: 0.6776 - val_accuracy: 0.8721\n",
      "Epoch 3/100\n",
      "32/32 [==============================] - 1s 17ms/step - loss: 0.5433 - accuracy: 0.8748 - val_loss: 0.5020 - val_accuracy: 0.8630\n",
      "Epoch 4/100\n",
      "32/32 [==============================] - 1s 17ms/step - loss: 0.5492 - accuracy: 0.8581 - val_loss: 0.5122 - val_accuracy: 0.8493\n",
      "Epoch 5/100\n",
      "32/32 [==============================] - 1s 17ms/step - loss: 0.4682 - accuracy: 0.8953 - val_loss: 0.4957 - val_accuracy: 0.8767\n",
      "Epoch 6/100\n",
      "32/32 [==============================] - 1s 17ms/step - loss: 0.4619 - accuracy: 0.8836 - val_loss: 0.4671 - val_accuracy: 0.8584\n",
      "Epoch 7/100\n",
      "32/32 [==============================] - 1s 17ms/step - loss: 0.4571 - accuracy: 0.8855 - val_loss: 0.4669 - val_accuracy: 0.8721\n",
      "Epoch 8/100\n",
      "32/32 [==============================] - 1s 17ms/step - loss: 0.4772 - accuracy: 0.8601 - val_loss: 0.5104 - val_accuracy: 0.8630\n",
      "Epoch 9/100\n",
      "32/32 [==============================] - 1s 17ms/step - loss: 0.4536 - accuracy: 0.8865 - val_loss: 0.4499 - val_accuracy: 0.8676\n",
      "Epoch 10/100\n",
      "32/32 [==============================] - 1s 17ms/step - loss: 0.4839 - accuracy: 0.8532 - val_loss: 0.5932 - val_accuracy: 0.8356\n",
      "Epoch 11/100\n",
      "32/32 [==============================] - 1s 17ms/step - loss: 0.4743 - accuracy: 0.8816 - val_loss: 0.4717 - val_accuracy: 0.8767\n",
      "Epoch 12/100\n",
      "32/32 [==============================] - 1s 17ms/step - loss: 0.4365 - accuracy: 0.8924 - val_loss: 0.4449 - val_accuracy: 0.8676\n",
      "Epoch 13/100\n",
      "32/32 [==============================] - 1s 17ms/step - loss: 0.4466 - accuracy: 0.8816 - val_loss: 0.4447 - val_accuracy: 0.8721\n",
      "Epoch 14/100\n",
      "32/32 [==============================] - 1s 17ms/step - loss: 0.4397 - accuracy: 0.8875 - val_loss: 0.4411 - val_accuracy: 0.8721\n",
      "Epoch 15/100\n",
      "32/32 [==============================] - 1s 17ms/step - loss: 0.4553 - accuracy: 0.8748 - val_loss: 0.4739 - val_accuracy: 0.8767\n",
      "Epoch 16/100\n",
      "32/32 [==============================] - 1s 17ms/step - loss: 0.4419 - accuracy: 0.8894 - val_loss: 0.4405 - val_accuracy: 0.8721\n",
      "Epoch 17/100\n",
      "32/32 [==============================] - 1s 17ms/step - loss: 0.4451 - accuracy: 0.8914 - val_loss: 0.4415 - val_accuracy: 0.8721\n",
      "Epoch 18/100\n",
      "32/32 [==============================] - 1s 18ms/step - loss: 0.4372 - accuracy: 0.8953 - val_loss: 0.4405 - val_accuracy: 0.8676\n",
      "Epoch 19/100\n",
      "32/32 [==============================] - 1s 19ms/step - loss: 0.4484 - accuracy: 0.8865 - val_loss: 0.4694 - val_accuracy: 0.8813\n",
      "Epoch 20/100\n",
      "32/32 [==============================] - 1s 18ms/step - loss: 0.4366 - accuracy: 0.8943 - val_loss: 0.4341 - val_accuracy: 0.8721\n",
      "Epoch 21/100\n",
      "32/32 [==============================] - 1s 17ms/step - loss: 0.4336 - accuracy: 0.8963 - val_loss: 0.4359 - val_accuracy: 0.8721\n",
      "Epoch 22/100\n",
      "32/32 [==============================] - 1s 17ms/step - loss: 0.4264 - accuracy: 0.8933 - val_loss: 0.4615 - val_accuracy: 0.8813\n",
      "Epoch 23/100\n",
      "32/32 [==============================] - 1s 17ms/step - loss: 0.4296 - accuracy: 0.8914 - val_loss: 0.5002 - val_accuracy: 0.8584\n",
      "Epoch 24/100\n",
      "32/32 [==============================] - 1s 17ms/step - loss: 0.4467 - accuracy: 0.8757 - val_loss: 0.5081 - val_accuracy: 0.8493\n",
      "Epoch 25/100\n",
      "32/32 [==============================] - 1s 17ms/step - loss: 0.4449 - accuracy: 0.8826 - val_loss: 0.4373 - val_accuracy: 0.8767\n",
      "Epoch 26/100\n",
      "32/32 [==============================] - 1s 18ms/step - loss: 0.4455 - accuracy: 0.8943 - val_loss: 0.5626 - val_accuracy: 0.8447\n",
      "Epoch 27/100\n",
      "32/32 [==============================] - 1s 17ms/step - loss: 0.4462 - accuracy: 0.8894 - val_loss: 0.4479 - val_accuracy: 0.8813\n",
      "Epoch 28/100\n",
      "32/32 [==============================] - 1s 17ms/step - loss: 0.4405 - accuracy: 0.8816 - val_loss: 0.4541 - val_accuracy: 0.8813\n",
      "Epoch 29/100\n",
      "32/32 [==============================] - 1s 17ms/step - loss: 0.4869 - accuracy: 0.8640 - val_loss: 0.4952 - val_accuracy: 0.8584\n",
      "Epoch 30/100\n",
      "32/32 [==============================] - 1s 17ms/step - loss: 0.4560 - accuracy: 0.8728 - val_loss: 0.4352 - val_accuracy: 0.8630\n",
      "Epoch 31/100\n",
      "32/32 [==============================] - 1s 17ms/step - loss: 0.4374 - accuracy: 0.8894 - val_loss: 0.4446 - val_accuracy: 0.8813\n",
      "Epoch 32/100\n",
      "32/32 [==============================] - 1s 17ms/step - loss: 0.4202 - accuracy: 0.8933 - val_loss: 0.4296 - val_accuracy: 0.8721\n",
      "Epoch 33/100\n",
      "32/32 [==============================] - 1s 17ms/step - loss: 0.4337 - accuracy: 0.8924 - val_loss: 0.4560 - val_accuracy: 0.8858\n",
      "Epoch 34/100\n",
      "32/32 [==============================] - 1s 17ms/step - loss: 0.4255 - accuracy: 0.8904 - val_loss: 0.4959 - val_accuracy: 0.8676\n",
      "Epoch 35/100\n",
      "32/32 [==============================] - 1s 18ms/step - loss: 0.4356 - accuracy: 0.8904 - val_loss: 0.4682 - val_accuracy: 0.8721\n",
      "Epoch 36/100\n",
      "32/32 [==============================] - 1s 18ms/step - loss: 0.4542 - accuracy: 0.8728 - val_loss: 0.4375 - val_accuracy: 0.8767\n",
      "Epoch 37/100\n",
      "32/32 [==============================] - 1s 18ms/step - loss: 0.4309 - accuracy: 0.8904 - val_loss: 0.4336 - val_accuracy: 0.8676\n",
      "Epoch 38/100\n",
      "32/32 [==============================] - 1s 17ms/step - loss: 0.4226 - accuracy: 0.8963 - val_loss: 0.4270 - val_accuracy: 0.8721\n",
      "Epoch 39/100\n",
      "32/32 [==============================] - 1s 17ms/step - loss: 0.4569 - accuracy: 0.8777 - val_loss: 0.4396 - val_accuracy: 0.8721\n",
      "Epoch 40/100\n",
      "32/32 [==============================] - 1s 17ms/step - loss: 0.4314 - accuracy: 0.8953 - val_loss: 0.4468 - val_accuracy: 0.8858\n",
      "Epoch 41/100\n",
      "32/32 [==============================] - 1s 17ms/step - loss: 0.4362 - accuracy: 0.8924 - val_loss: 0.4306 - val_accuracy: 0.8676\n",
      "Epoch 42/100\n",
      "32/32 [==============================] - 1s 18ms/step - loss: 0.4261 - accuracy: 0.8904 - val_loss: 0.4705 - val_accuracy: 0.8721\n",
      "Epoch 43/100\n",
      "32/32 [==============================] - 1s 18ms/step - loss: 0.4368 - accuracy: 0.8875 - val_loss: 0.4683 - val_accuracy: 0.8721\n",
      "Epoch 44/100\n",
      "32/32 [==============================] - 1s 18ms/step - loss: 0.4365 - accuracy: 0.8865 - val_loss: 0.5005 - val_accuracy: 0.8630\n",
      "Epoch 45/100\n",
      "32/32 [==============================] - 1s 18ms/step - loss: 0.4692 - accuracy: 0.8689 - val_loss: 0.5107 - val_accuracy: 0.8630\n",
      "Epoch 46/100\n",
      "32/32 [==============================] - 1s 18ms/step - loss: 0.4415 - accuracy: 0.8806 - val_loss: 0.4408 - val_accuracy: 0.8904\n",
      "Epoch 47/100\n",
      "32/32 [==============================] - 1s 17ms/step - loss: 0.4248 - accuracy: 0.8855 - val_loss: 0.5314 - val_accuracy: 0.8539\n",
      "Epoch 48/100\n",
      "32/32 [==============================] - 1s 18ms/step - loss: 0.4306 - accuracy: 0.8816 - val_loss: 0.4278 - val_accuracy: 0.8721\n",
      "Epoch 49/100\n",
      "32/32 [==============================] - 1s 18ms/step - loss: 0.4200 - accuracy: 0.9012 - val_loss: 0.4314 - val_accuracy: 0.8630\n",
      "Epoch 50/100\n",
      "32/32 [==============================] - 1s 17ms/step - loss: 0.4146 - accuracy: 0.8973 - val_loss: 0.4307 - val_accuracy: 0.8767\n",
      "Epoch 51/100\n",
      "32/32 [==============================] - 1s 17ms/step - loss: 0.4236 - accuracy: 0.8973 - val_loss: 0.4877 - val_accuracy: 0.8767\n",
      "Epoch 52/100\n",
      "32/32 [==============================] - 1s 17ms/step - loss: 0.4470 - accuracy: 0.8836 - val_loss: 0.4306 - val_accuracy: 0.8767\n",
      "Epoch 53/100\n",
      "32/32 [==============================] - 1s 18ms/step - loss: 0.4255 - accuracy: 0.8904 - val_loss: 0.4315 - val_accuracy: 0.8767\n",
      "Epoch 54/100\n",
      "32/32 [==============================] - 1s 17ms/step - loss: 0.4382 - accuracy: 0.8894 - val_loss: 0.4683 - val_accuracy: 0.8493\n",
      "Epoch 55/100\n",
      "32/32 [==============================] - 1s 17ms/step - loss: 0.4300 - accuracy: 0.8885 - val_loss: 0.4291 - val_accuracy: 0.8767\n",
      "Epoch 56/100\n",
      "32/32 [==============================] - 1s 18ms/step - loss: 0.4307 - accuracy: 0.8885 - val_loss: 0.4289 - val_accuracy: 0.8767\n",
      "Epoch 57/100\n",
      "32/32 [==============================] - 1s 18ms/step - loss: 0.4293 - accuracy: 0.8914 - val_loss: 0.4381 - val_accuracy: 0.8858\n",
      "Epoch 58/100\n"
     ]
    },
    {
     "name": "stdout",
     "output_type": "stream",
     "text": [
      "32/32 [==============================] - 1s 18ms/step - loss: 0.4288 - accuracy: 0.8904 - val_loss: 0.4535 - val_accuracy: 0.8767\n",
      "Epoch 59/100\n",
      "32/32 [==============================] - 1s 17ms/step - loss: 0.4323 - accuracy: 0.8845 - val_loss: 0.4274 - val_accuracy: 0.8858\n",
      "Epoch 60/100\n",
      "32/32 [==============================] - 1s 17ms/step - loss: 0.4280 - accuracy: 0.8885 - val_loss: 0.4257 - val_accuracy: 0.8813\n",
      "Epoch 61/100\n",
      "32/32 [==============================] - 1s 17ms/step - loss: 0.4279 - accuracy: 0.8933 - val_loss: 0.4423 - val_accuracy: 0.8813\n",
      "Epoch 62/100\n",
      "32/32 [==============================] - 1s 18ms/step - loss: 0.4295 - accuracy: 0.8924 - val_loss: 0.4357 - val_accuracy: 0.8813\n",
      "Epoch 63/100\n",
      "32/32 [==============================] - 1s 17ms/step - loss: 0.4336 - accuracy: 0.8875 - val_loss: 0.4469 - val_accuracy: 0.8813\n",
      "Epoch 64/100\n",
      "32/32 [==============================] - 1s 17ms/step - loss: 0.4575 - accuracy: 0.8787 - val_loss: 0.4447 - val_accuracy: 0.8858\n",
      "Epoch 65/100\n",
      "32/32 [==============================] - 1s 17ms/step - loss: 0.4386 - accuracy: 0.8963 - val_loss: 0.5088 - val_accuracy: 0.8630\n",
      "Epoch 66/100\n",
      "32/32 [==============================] - 1s 17ms/step - loss: 0.4384 - accuracy: 0.8875 - val_loss: 0.4272 - val_accuracy: 0.8721\n",
      "Epoch 67/100\n",
      "32/32 [==============================] - 1s 17ms/step - loss: 0.4304 - accuracy: 0.8845 - val_loss: 0.4265 - val_accuracy: 0.8721\n",
      "Epoch 68/100\n",
      "32/32 [==============================] - 1s 17ms/step - loss: 0.4331 - accuracy: 0.8836 - val_loss: 0.4334 - val_accuracy: 0.8676\n",
      "Epoch 69/100\n",
      "32/32 [==============================] - 1s 17ms/step - loss: 0.4473 - accuracy: 0.8787 - val_loss: 0.4976 - val_accuracy: 0.8630\n",
      "Epoch 70/100\n",
      "32/32 [==============================] - 1s 17ms/step - loss: 0.4438 - accuracy: 0.8787 - val_loss: 0.4335 - val_accuracy: 0.8813\n",
      "Epoch 71/100\n",
      "32/32 [==============================] - 1s 17ms/step - loss: 0.4303 - accuracy: 0.8914 - val_loss: 0.4265 - val_accuracy: 0.8767\n",
      "Epoch 72/100\n",
      "32/32 [==============================] - 1s 17ms/step - loss: 0.4396 - accuracy: 0.8836 - val_loss: 0.4525 - val_accuracy: 0.8858\n",
      "Epoch 73/100\n",
      "32/32 [==============================] - 1s 17ms/step - loss: 0.4161 - accuracy: 0.8963 - val_loss: 0.4277 - val_accuracy: 0.8767\n",
      "Epoch 74/100\n",
      "32/32 [==============================] - 1s 17ms/step - loss: 0.4193 - accuracy: 0.8914 - val_loss: 0.4379 - val_accuracy: 0.8858\n",
      "Epoch 75/100\n",
      "32/32 [==============================] - 1s 17ms/step - loss: 0.4275 - accuracy: 0.8875 - val_loss: 0.4503 - val_accuracy: 0.8858\n",
      "Epoch 76/100\n",
      "32/32 [==============================] - 1s 17ms/step - loss: 0.4327 - accuracy: 0.8816 - val_loss: 0.4270 - val_accuracy: 0.8767\n",
      "Epoch 77/100\n",
      "32/32 [==============================] - 1s 18ms/step - loss: 0.4275 - accuracy: 0.8914 - val_loss: 0.4376 - val_accuracy: 0.8858\n",
      "Epoch 78/100\n",
      "32/32 [==============================] - 1s 17ms/step - loss: 0.4240 - accuracy: 0.8836 - val_loss: 0.4373 - val_accuracy: 0.8767\n",
      "Epoch 79/100\n",
      "32/32 [==============================] - 1s 17ms/step - loss: 0.4314 - accuracy: 0.8885 - val_loss: 0.4322 - val_accuracy: 0.8858\n",
      "Epoch 80/100\n",
      "32/32 [==============================] - 1s 17ms/step - loss: 0.4265 - accuracy: 0.8806 - val_loss: 0.4683 - val_accuracy: 0.8721\n",
      "Epoch 81/100\n",
      "32/32 [==============================] - 1s 17ms/step - loss: 0.4360 - accuracy: 0.8748 - val_loss: 0.4336 - val_accuracy: 0.8858\n",
      "Epoch 82/100\n",
      "32/32 [==============================] - 1s 18ms/step - loss: 0.4454 - accuracy: 0.8796 - val_loss: 0.4469 - val_accuracy: 0.8813\n",
      "Epoch 83/100\n",
      "32/32 [==============================] - 1s 18ms/step - loss: 0.4148 - accuracy: 0.8924 - val_loss: 0.4258 - val_accuracy: 0.8767\n",
      "Epoch 84/100\n",
      "32/32 [==============================] - 1s 17ms/step - loss: 0.4140 - accuracy: 0.8992 - val_loss: 0.4375 - val_accuracy: 0.8858\n",
      "Epoch 85/100\n",
      "32/32 [==============================] - 1s 18ms/step - loss: 0.4207 - accuracy: 0.8924 - val_loss: 0.4913 - val_accuracy: 0.8676\n",
      "Epoch 86/100\n",
      "32/32 [==============================] - 1s 18ms/step - loss: 0.4313 - accuracy: 0.8836 - val_loss: 0.4355 - val_accuracy: 0.8858\n",
      "Epoch 87/100\n",
      "32/32 [==============================] - 1s 18ms/step - loss: 0.4250 - accuracy: 0.8973 - val_loss: 0.4256 - val_accuracy: 0.8767\n",
      "Epoch 88/100\n",
      "32/32 [==============================] - 1s 17ms/step - loss: 0.4240 - accuracy: 0.8855 - val_loss: 0.5061 - val_accuracy: 0.8630\n",
      "Epoch 89/100\n",
      "32/32 [==============================] - 1s 18ms/step - loss: 0.4475 - accuracy: 0.8748 - val_loss: 0.4452 - val_accuracy: 0.8813\n",
      "Epoch 90/100\n",
      "32/32 [==============================] - 1s 17ms/step - loss: 0.4227 - accuracy: 0.8924 - val_loss: 0.4256 - val_accuracy: 0.8767\n",
      "Epoch 91/100\n",
      "32/32 [==============================] - 1s 17ms/step - loss: 0.4216 - accuracy: 0.8943 - val_loss: 0.4580 - val_accuracy: 0.8676\n",
      "Epoch 92/100\n",
      "32/32 [==============================] - 1s 17ms/step - loss: 0.4300 - accuracy: 0.8924 - val_loss: 0.4263 - val_accuracy: 0.8813\n",
      "Epoch 93/100\n",
      "32/32 [==============================] - 1s 17ms/step - loss: 0.4237 - accuracy: 0.8865 - val_loss: 0.4263 - val_accuracy: 0.8858\n",
      "Epoch 94/100\n",
      "32/32 [==============================] - 1s 17ms/step - loss: 0.4197 - accuracy: 0.8885 - val_loss: 0.4354 - val_accuracy: 0.8858\n",
      "Epoch 95/100\n",
      "32/32 [==============================] - 1s 17ms/step - loss: 0.4246 - accuracy: 0.8865 - val_loss: 0.4539 - val_accuracy: 0.8767\n",
      "Epoch 96/100\n",
      "32/32 [==============================] - 1s 17ms/step - loss: 0.4201 - accuracy: 0.8845 - val_loss: 0.4360 - val_accuracy: 0.8858\n",
      "Epoch 97/100\n",
      "32/32 [==============================] - 1s 17ms/step - loss: 0.4197 - accuracy: 0.8933 - val_loss: 0.4317 - val_accuracy: 0.8584\n",
      "Epoch 98/100\n",
      "32/32 [==============================] - 1s 17ms/step - loss: 0.4237 - accuracy: 0.8894 - val_loss: 0.4321 - val_accuracy: 0.8584\n",
      "Epoch 99/100\n",
      "32/32 [==============================] - 1s 17ms/step - loss: 0.4407 - accuracy: 0.8816 - val_loss: 0.4309 - val_accuracy: 0.8676\n",
      "Epoch 100/100\n",
      "32/32 [==============================] - 1s 18ms/step - loss: 0.4190 - accuracy: 0.8904 - val_loss: 0.4406 - val_accuracy: 0.8493\n"
     ]
    }
   ],
   "source": [
    "model_3.compile(optimizer='adam',\n",
    "              loss='binary_crossentropy',\n",
    "              metrics=['accuracy'])\n",
    "hist_3 = model_3.fit(X_train, Y_train,\n",
    "          batch_size=32, epochs=100,\n",
    "          validation_data=(X_val, Y_val))"
   ]
  },
  {
   "cell_type": "code",
   "execution_count": 29,
   "metadata": {},
   "outputs": [
    {
     "data": {
      "image/png": "[encoded data removed]",
      "text/plain": [
       "<Figure size 432x288 with 1 Axes>"
      ]
     },
     "metadata": {
      "needs_background": "light"
     },
     "output_type": "display_data"
    }
   ],
   "source": [
    "plt.plot(hist_3.history['loss'])\n",
    "plt.plot(hist_3.history['val_loss'])\n",
    "plt.title('Model loss')\n",
    "plt.ylabel('Loss')\n",
    "plt.xlabel('Epoch')\n",
    "plt.legend(['Train', 'Val'], loc='upper right')\n",
    "plt.ylim(top=1.2, bottom=0)\n",
    "plt.show()"
   ]
  },
  {
   "cell_type": "code",
   "execution_count": 30,
   "metadata": {},
   "outputs": [
    {
     "data": {
      "image/png": "[encoded data removed]",
      "text/plain": [
       "<Figure size 432x288 with 1 Axes>"
      ]
     },
     "metadata": {
      "needs_background": "light"
     },
     "output_type": "display_data"
    }
   ],
   "source": [
    "plt.plot(hist_3.history['accuracy'])\n",
    "plt.plot(hist_3.history['val_accuracy'])\n",
    "plt.title('Model accuracy')\n",
    "plt.ylabel('Accuracy')\n",
    "plt.xlabel('Epoch')\n",
    "plt.legend(['Train', 'Val'], loc='lower right')\n",
    "plt.show()"
   ]
  },
  {
   "cell_type": "code",
   "execution_count": 31,
   "metadata": {},
   "outputs": [],
   "source": [
    "from keras.datasets import cifar10\n",
    "(x_train, y_train), (x_test, y_test) = cifar10.load_data()"
   ]
  },
  {
   "cell_type": "code",
   "execution_count": 32,
   "metadata": {},
   "outputs": [
    {
     "name": "stdout",
     "output_type": "stream",
     "text": [
      "x_train shape: (50000, 32, 32, 3)\n"
     ]
    }
   ],
   "source": [
    "print('x_train shape:', x_train.shape)"
   ]
  },
  {
   "cell_type": "code",
   "execution_count": 33,
   "metadata": {},
   "outputs": [
    {
     "name": "stdout",
     "output_type": "stream",
     "text": [
      "y_train shape: (50000, 1)\n"
     ]
    }
   ],
   "source": [
    "print('y_train shape:', y_train.shape)"
   ]
  },
  {
   "cell_type": "code",
   "execution_count": 34,
   "metadata": {},
   "outputs": [
    {
     "name": "stdout",
     "output_type": "stream",
     "text": [
      "[[[ 59  62  63]\n",
      "  [ 43  46  45]\n",
      "  [ 50  48  43]\n",
      "  ...\n",
      "  [158 132 108]\n",
      "  [152 125 102]\n",
      "  [148 124 103]]\n",
      "\n",
      " [[ 16  20  20]\n",
      "  [  0   0   0]\n",
      "  [ 18   8   0]\n",
      "  ...\n",
      "  [123  88  55]\n",
      "  [119  83  50]\n",
      "  [122  87  57]]\n",
      "\n",
      " [[ 25  24  21]\n",
      "  [ 16   7   0]\n",
      "  [ 49  27   8]\n",
      "  ...\n",
      "  [118  84  50]\n",
      "  [120  84  50]\n",
      "  [109  73  42]]\n",
      "\n",
      " ...\n",
      "\n",
      " [[208 170  96]\n",
      "  [201 153  34]\n",
      "  [198 161  26]\n",
      "  ...\n",
      "  [160 133  70]\n",
      "  [ 56  31   7]\n",
      "  [ 53  34  20]]\n",
      "\n",
      " [[180 139  96]\n",
      "  [173 123  42]\n",
      "  [186 144  30]\n",
      "  ...\n",
      "  [184 148  94]\n",
      "  [ 97  62  34]\n",
      "  [ 83  53  34]]\n",
      "\n",
      " [[177 144 116]\n",
      "  [168 129  94]\n",
      "  [179 142  87]\n",
      "  ...\n",
      "  [216 184 140]\n",
      "  [151 118  84]\n",
      "  [123  92  72]]]\n"
     ]
    }
   ],
   "source": [
    "print(x_train[0])"
   ]
  },
  {
   "cell_type": "code",
   "execution_count": 35,
   "metadata": {},
   "outputs": [],
   "source": [
    "import matplotlib.pyplot as plt\n",
    "%matplotlib inline"
   ]
  },
  {
   "cell_type": "code",
   "execution_count": 36,
   "metadata": {},
   "outputs": [
    {
     "data": {
      "image/png": "[encoded data removed]",
      "text/plain": [
       "<Figure size 432x288 with 1 Axes>"
      ]
     },
     "metadata": {
      "needs_background": "light"
     },
     "output_type": "display_data"
    }
   ],
   "source": [
    "img = plt.imshow(x_train[0])"
   ]
  },
  {
   "cell_type": "code",
   "execution_count": 37,
   "metadata": {},
   "outputs": [
    {
     "name": "stdout",
     "output_type": "stream",
     "text": [
      "The label is: [6]\n"
     ]
    }
   ],
   "source": [
    "print('The label is:', y_train[0])"
   ]
  },
  {
   "cell_type": "code",
   "execution_count": 38,
   "metadata": {},
   "outputs": [
    {
     "data": {
      "image/png": "[encoded data removed]",
      "text/plain": [
       "<Figure size 432x288 with 1 Axes>"
      ]
     },
     "metadata": {
      "needs_background": "light"
     },
     "output_type": "display_data"
    }
   ],
   "source": [
    "img = plt.imshow(x_train[1])"
   ]
  },
  {
   "cell_type": "code",
   "execution_count": 39,
   "metadata": {},
   "outputs": [
    {
     "name": "stdout",
     "output_type": "stream",
     "text": [
      "The label is: [9]\n"
     ]
    }
   ],
   "source": [
    "print('The label is:', y_train[1])"
   ]
  },
  {
   "cell_type": "code",
   "execution_count": 40,
   "metadata": {},
   "outputs": [
    {
     "ename": "AttributeError",
     "evalue": "module 'keras.utils' has no attribute 'to_categorical'",
     "output_type": "error",
     "traceback": [
      "\u001b[1;31m---------------------------------------------------------------------------\u001b[0m",
      "\u001b[1;31mAttributeError\u001b[0m                            Traceback (most recent call last)",
      "\u001b[1;32m<ipython-input-40-29fde7b232b2>\u001b[0m in \u001b[0;36m<module>\u001b[1;34m\u001b[0m\n\u001b[0;32m      1\u001b[0m \u001b[1;32mimport\u001b[0m \u001b[0mkeras\u001b[0m\u001b[1;33m\u001b[0m\u001b[1;33m\u001b[0m\u001b[0m\n\u001b[1;32m----> 2\u001b[1;33m \u001b[0my_train_one_hot\u001b[0m \u001b[1;33m=\u001b[0m \u001b[0mkeras\u001b[0m\u001b[1;33m.\u001b[0m\u001b[0mutils\u001b[0m\u001b[1;33m.\u001b[0m\u001b[0mto_categorical\u001b[0m\u001b[1;33m(\u001b[0m\u001b[0my_train\u001b[0m\u001b[1;33m,\u001b[0m \u001b[1;36m10\u001b[0m\u001b[1;33m)\u001b[0m\u001b[1;33m\u001b[0m\u001b[1;33m\u001b[0m\u001b[0m\n\u001b[0m\u001b[0;32m      3\u001b[0m \u001b[0my_test_one_hot\u001b[0m \u001b[1;33m=\u001b[0m \u001b[0mkeras\u001b[0m\u001b[1;33m.\u001b[0m\u001b[0mutils\u001b[0m\u001b[1;33m.\u001b[0m\u001b[0mto_categorical\u001b[0m\u001b[1;33m(\u001b[0m\u001b[0my_test\u001b[0m\u001b[1;33m,\u001b[0m \u001b[1;36m10\u001b[0m\u001b[1;33m)\u001b[0m\u001b[1;33m\u001b[0m\u001b[1;33m\u001b[0m\u001b[0m\n",
      "\u001b[1;31mAttributeError\u001b[0m: module 'keras.utils' has no attribute 'to_categorical'"
     ]
    }
   ],
   "source": [
    "import keras\n",
    "y_train_one_hot = keras.utils.to_categorical(y_train, 10)\n",
    "y_test_one_hot = keras.utils.to_categorical(y_test, 10)"
   ]
  },
  {
   "cell_type": "code",
   "execution_count": 41,
   "metadata": {},
   "outputs": [],
   "source": [
    "import keras\n",
    "y_train_one_hot = keras.utils.np_utils.to_categorical(y_train, 10)\n",
    "y_test_one_hot = keras.utils.np_utils.to_categorical(y_test, 10)"
   ]
  },
  {
   "cell_type": "code",
   "execution_count": 42,
   "metadata": {},
   "outputs": [
    {
     "name": "stdout",
     "output_type": "stream",
     "text": [
      "The one hot label is: [0. 0. 0. 0. 0. 0. 0. 0. 0. 1.]\n"
     ]
    }
   ],
   "source": [
    "print('The one hot label is:', y_train_one_hot[1])"
   ]
  },
  {
   "cell_type": "code",
   "execution_count": 43,
   "metadata": {},
   "outputs": [],
   "source": [
    "x_train = x_train.astype('float32')\n",
    "x_test = x_test.astype('float32')\n",
    "x_train = x_train / 255\n",
    "x_test = x_test / 255"
   ]
  },
  {
   "cell_type": "code",
   "execution_count": 44,
   "metadata": {},
   "outputs": [
    {
     "data": {
      "text/plain": [
       "array([[[0.23137255, 0.24313726, 0.24705882],\n",
       "        [0.16862746, 0.18039216, 0.1764706 ],\n",
       "        [0.19607843, 0.1882353 , 0.16862746],\n",
       "        ...,\n",
       "        [0.61960787, 0.5176471 , 0.42352942],\n",
       "        [0.59607846, 0.49019608, 0.4       ],\n",
       "        [0.5803922 , 0.4862745 , 0.40392157]],\n",
       "\n",
       "       [[0.0627451 , 0.07843138, 0.07843138],\n",
       "        [0.        , 0.        , 0.        ],\n",
       "        [0.07058824, 0.03137255, 0.        ],\n",
       "        ...,\n",
       "        [0.48235294, 0.34509805, 0.21568628],\n",
       "        [0.46666667, 0.3254902 , 0.19607843],\n",
       "        [0.47843137, 0.34117648, 0.22352941]],\n",
       "\n",
       "       [[0.09803922, 0.09411765, 0.08235294],\n",
       "        [0.0627451 , 0.02745098, 0.        ],\n",
       "        [0.19215687, 0.10588235, 0.03137255],\n",
       "        ...,\n",
       "        [0.4627451 , 0.32941177, 0.19607843],\n",
       "        [0.47058824, 0.32941177, 0.19607843],\n",
       "        [0.42745098, 0.28627452, 0.16470589]],\n",
       "\n",
       "       ...,\n",
       "\n",
       "       [[0.8156863 , 0.6666667 , 0.3764706 ],\n",
       "        [0.7882353 , 0.6       , 0.13333334],\n",
       "        [0.7764706 , 0.6313726 , 0.10196079],\n",
       "        ...,\n",
       "        [0.627451  , 0.52156866, 0.27450982],\n",
       "        [0.21960784, 0.12156863, 0.02745098],\n",
       "        [0.20784314, 0.13333334, 0.07843138]],\n",
       "\n",
       "       [[0.7058824 , 0.54509807, 0.3764706 ],\n",
       "        [0.6784314 , 0.48235294, 0.16470589],\n",
       "        [0.7294118 , 0.5647059 , 0.11764706],\n",
       "        ...,\n",
       "        [0.72156864, 0.5803922 , 0.36862746],\n",
       "        [0.38039216, 0.24313726, 0.13333334],\n",
       "        [0.3254902 , 0.20784314, 0.13333334]],\n",
       "\n",
       "       [[0.69411767, 0.5647059 , 0.45490196],\n",
       "        [0.65882355, 0.5058824 , 0.36862746],\n",
       "        [0.7019608 , 0.5568628 , 0.34117648],\n",
       "        ...,\n",
       "        [0.84705883, 0.72156864, 0.54901963],\n",
       "        [0.5921569 , 0.4627451 , 0.32941177],\n",
       "        [0.48235294, 0.36078432, 0.28235295]]], dtype=float32)"
      ]
     },
     "execution_count": 44,
     "metadata": {},
     "output_type": "execute_result"
    }
   ],
   "source": [
    "x_train[0]"
   ]
  },
  {
   "cell_type": "code",
   "execution_count": 45,
   "metadata": {},
   "outputs": [],
   "source": [
    "from keras.models import Sequential\n",
    "from keras.layers import Dense, Dropout, Flatten, Conv2D, MaxPooling2D"
   ]
  },
  {
   "cell_type": "code",
   "execution_count": 46,
   "metadata": {},
   "outputs": [],
   "source": [
    "model = Sequential()"
   ]
  },
  {
   "cell_type": "code",
   "execution_count": 47,
   "metadata": {},
   "outputs": [],
   "source": [
    "model.add(Conv2D(32, (3, 3), activation='relu', padding='same', input_shape=(32,32,3)))"
   ]
  },
  {
   "cell_type": "code",
   "execution_count": 48,
   "metadata": {},
   "outputs": [],
   "source": [
    "model.add(Conv2D(32, (3, 3), activation='relu', padding='same'))"
   ]
  },
  {
   "cell_type": "code",
   "execution_count": 49,
   "metadata": {},
   "outputs": [],
   "source": [
    "model.add(MaxPooling2D(pool_size=(2, 2)))"
   ]
  },
  {
   "cell_type": "code",
   "execution_count": 50,
   "metadata": {},
   "outputs": [],
   "source": [
    "model.add(Dropout(0.25))"
   ]
  },
  {
   "cell_type": "code",
   "execution_count": 51,
   "metadata": {},
   "outputs": [],
   "source": [
    "model.add(Flatten())"
   ]
  },
  {
   "cell_type": "code",
   "execution_count": 52,
   "metadata": {},
   "outputs": [],
   "source": [
    "model.add(Dense(512, activation='relu'))"
   ]
  },
  {
   "cell_type": "code",
   "execution_count": 53,
   "metadata": {},
   "outputs": [],
   "source": [
    "model.add(Dropout(0.5))"
   ]
  },
  {
   "cell_type": "code",
   "execution_count": 54,
   "metadata": {},
   "outputs": [],
   "source": [
    "model.add(Dense(10, activation='softmax'))"
   ]
  },
  {
   "cell_type": "code",
   "execution_count": 55,
   "metadata": {},
   "outputs": [
    {
     "name": "stdout",
     "output_type": "stream",
     "text": [
      "Model: \"sequential_3\"\n",
      "_________________________________________________________________\n",
      " Layer (type)                Output Shape              Param #   \n",
      "=================================================================\n",
      " conv2d (Conv2D)             (None, 32, 32, 32)        896       \n",
      "                                                                 \n",
      " conv2d_1 (Conv2D)           (None, 32, 32, 32)        9248      \n",
      "                                                                 \n",
      " max_pooling2d (MaxPooling2D  (None, 16, 16, 32)       0         \n",
      " )                                                               \n",
      "                                                                 \n",
      " dropout_4 (Dropout)         (None, 16, 16, 32)        0         \n",
      "                                                                 \n",
      " flatten (Flatten)           (None, 8192)              0         \n",
      "                                                                 \n",
      " dense_13 (Dense)            (None, 512)               4194816   \n",
      "                                                                 \n",
      " dropout_5 (Dropout)         (None, 512)               0         \n",
      "                                                                 \n",
      " dense_14 (Dense)            (None, 10)                5130      \n",
      "                                                                 \n",
      "=================================================================\n",
      "Total params: 4,210,090\n",
      "Trainable params: 4,210,090\n",
      "Non-trainable params: 0\n",
      "_________________________________________________________________\n"
     ]
    }
   ],
   "source": [
    "model.summary()"
   ]
  },
  {
   "cell_type": "code",
   "execution_count": 56,
   "metadata": {},
   "outputs": [],
   "source": [
    "model.compile(loss='categorical_crossentropy',\n",
    "              optimizer='adam',\n",
    "              metrics=['accuracy'])"
   ]
  },
  {
   "cell_type": "code",
   "execution_count": 57,
   "metadata": {},
   "outputs": [
    {
     "name": "stdout",
     "output_type": "stream",
     "text": [
      "Epoch 1/20\n",
      "1250/1250 [==============================] - 43s 34ms/step - loss: 1.4609 - accuracy: 0.4705 - val_loss: 1.1245 - val_accuracy: 0.5989\n",
      "Epoch 2/20\n",
      "1250/1250 [==============================] - 42s 33ms/step - loss: 1.0946 - accuracy: 0.6101 - val_loss: 0.9727 - val_accuracy: 0.6623\n",
      "Epoch 3/20\n",
      "1250/1250 [==============================] - 42s 33ms/step - loss: 0.9457 - accuracy: 0.6668 - val_loss: 0.9456 - val_accuracy: 0.6742\n",
      "Epoch 4/20\n",
      "1250/1250 [==============================] - 41s 33ms/step - loss: 0.8383 - accuracy: 0.7023 - val_loss: 0.8844 - val_accuracy: 0.6916\n",
      "Epoch 5/20\n",
      "1250/1250 [==============================] - 42s 33ms/step - loss: 0.7436 - accuracy: 0.7375 - val_loss: 0.8754 - val_accuracy: 0.6996\n",
      "Epoch 6/20\n",
      "1250/1250 [==============================] - 42s 34ms/step - loss: 0.6601 - accuracy: 0.7663 - val_loss: 0.8749 - val_accuracy: 0.7049\n",
      "Epoch 7/20\n",
      "1250/1250 [==============================] - 42s 33ms/step - loss: 0.5863 - accuracy: 0.7924 - val_loss: 0.8795 - val_accuracy: 0.7066\n",
      "Epoch 8/20\n",
      "1250/1250 [==============================] - 42s 33ms/step - loss: 0.5209 - accuracy: 0.8165 - val_loss: 0.9395 - val_accuracy: 0.7029\n",
      "Epoch 9/20\n",
      "1250/1250 [==============================] - 41s 32ms/step - loss: 0.4778 - accuracy: 0.8314 - val_loss: 0.9400 - val_accuracy: 0.7030\n",
      "Epoch 10/20\n",
      "1250/1250 [==============================] - 40s 32ms/step - loss: 0.4185 - accuracy: 0.8522 - val_loss: 0.9475 - val_accuracy: 0.7040\n",
      "Epoch 11/20\n",
      "1250/1250 [==============================] - 40s 32ms/step - loss: 0.3874 - accuracy: 0.8618 - val_loss: 0.9766 - val_accuracy: 0.7129\n",
      "Epoch 12/20\n",
      "1250/1250 [==============================] - 40s 32ms/step - loss: 0.3548 - accuracy: 0.8756 - val_loss: 1.0221 - val_accuracy: 0.7111\n",
      "Epoch 13/20\n",
      "1250/1250 [==============================] - 41s 33ms/step - loss: 0.3253 - accuracy: 0.8844 - val_loss: 1.0205 - val_accuracy: 0.7065\n",
      "Epoch 14/20\n",
      "1250/1250 [==============================] - 40s 32ms/step - loss: 0.3089 - accuracy: 0.8909 - val_loss: 1.0851 - val_accuracy: 0.7003\n",
      "Epoch 15/20\n",
      "1250/1250 [==============================] - 41s 33ms/step - loss: 0.2866 - accuracy: 0.8982 - val_loss: 1.1011 - val_accuracy: 0.7132\n",
      "Epoch 16/20\n",
      "1250/1250 [==============================] - 41s 32ms/step - loss: 0.2694 - accuracy: 0.9054 - val_loss: 1.0650 - val_accuracy: 0.7005\n",
      "Epoch 17/20\n",
      "1250/1250 [==============================] - 40s 32ms/step - loss: 0.2609 - accuracy: 0.9094 - val_loss: 1.1224 - val_accuracy: 0.7072\n",
      "Epoch 18/20\n",
      "1250/1250 [==============================] - 40s 32ms/step - loss: 0.2539 - accuracy: 0.9141 - val_loss: 1.1305 - val_accuracy: 0.7117\n",
      "Epoch 19/20\n",
      "1250/1250 [==============================] - 40s 32ms/step - loss: 0.2324 - accuracy: 0.9195 - val_loss: 1.1462 - val_accuracy: 0.7135\n",
      "Epoch 20/20\n",
      "1250/1250 [==============================] - 40s 32ms/step - loss: 0.2290 - accuracy: 0.9190 - val_loss: 1.1788 - val_accuracy: 0.7107\n"
     ]
    }
   ],
   "source": [
    "hist = model.fit(x_train, y_train_one_hot, \n",
    "           batch_size=32, epochs=20, \n",
    "           validation_split=0.2)"
   ]
  },
  {
   "cell_type": "code",
   "execution_count": 58,
   "metadata": {},
   "outputs": [
    {
     "data": {
      "image/png": "[encoded data removed]",
      "text/plain": [
       "<Figure size 432x288 with 1 Axes>"
      ]
     },
     "metadata": {
      "needs_background": "light"
     },
     "output_type": "display_data"
    }
   ],
   "source": [
    "plt.plot(hist.history['loss'])\n",
    "plt.plot(hist.history['val_loss'])\n",
    "plt.title('Model loss')\n",
    "plt.ylabel('Loss')\n",
    "plt.xlabel('Epoch')\n",
    "plt.legend(['Train', 'Val'], loc='upper right')\n",
    "plt.show()"
   ]
  },
  {
   "cell_type": "code",
   "execution_count": 59,
   "metadata": {},
   "outputs": [
    {
     "data": {
      "image/png": "[encoded data removed]",
      "text/plain": [
       "<Figure size 432x288 with 1 Axes>"
      ]
     },
     "metadata": {
      "needs_background": "light"
     },
     "output_type": "display_data"
    }
   ],
   "source": [
    "plt.plot(hist.history['accuracy'])\n",
    "plt.plot(hist.history['val_accuracy'])\n",
    "plt.title('Model accuracy')\n",
    "plt.ylabel('Accuracy')\n",
    "plt.xlabel('Epoch')\n",
    "plt.legend(['Train', 'Val'], loc='lower right')\n",
    "plt.show()"
   ]
  },
  {
   "cell_type": "code",
   "execution_count": 60,
   "metadata": {},
   "outputs": [
    {
     "name": "stdout",
     "output_type": "stream",
     "text": [
      "313/313 [==============================] - 3s 8ms/step - loss: 1.1845 - accuracy: 0.7009\n"
     ]
    },
    {
     "data": {
      "text/plain": [
       "0.7009000182151794"
      ]
     },
     "execution_count": 60,
     "metadata": {},
     "output_type": "execute_result"
    }
   ],
   "source": [
    "model.evaluate(x_test, y_test_one_hot)[1]"
   ]
  },
  {
   "cell_type": "code",
   "execution_count": 61,
   "metadata": {},
   "outputs": [],
   "source": [
    "model.save('my_cifar10_model.h5')"
   ]
  },
  {
   "cell_type": "code",
   "execution_count": 62,
   "metadata": {},
   "outputs": [],
   "source": [
    "my_image = plt.imread(\"cat.jpg\")"
   ]
  },
  {
   "cell_type": "code",
   "execution_count": 63,
   "metadata": {},
   "outputs": [],
   "source": [
    "from skimage.transform import resize\n",
    "my_image_resized = resize(my_image, (32,32,3))"
   ]
  },
  {
   "cell_type": "code",
   "execution_count": 64,
   "metadata": {},
   "outputs": [
    {
     "data": {
      "image/png": "[encoded data removed]",
      "text/plain": [
       "<Figure size 432x288 with 1 Axes>"
      ]
     },
     "metadata": {
      "needs_background": "light"
     },
     "output_type": "display_data"
    }
   ],
   "source": [
    "img = plt.imshow(my_image_resized)"
   ]
  },
  {
   "cell_type": "code",
   "execution_count": 65,
   "metadata": {},
   "outputs": [],
   "source": [
    "import numpy as np\n",
    "probabilities = model.predict(np.array( [my_image_resized,] ))"
   ]
  },
  {
   "cell_type": "code",
   "execution_count": 66,
   "metadata": {},
   "outputs": [
    {
     "data": {
      "text/plain": [
       "array([[2.2244996e-04, 7.5754184e-07, 3.4916154e-04, 3.0922583e-01,\n",
       "        5.6726420e-03, 3.5504904e-01, 9.5645162e-05, 3.2934597e-01,\n",
       "        1.0674197e-05, 2.7843622e-05]], dtype=float32)"
      ]
     },
     "execution_count": 66,
     "metadata": {},
     "output_type": "execute_result"
    }
   ],
   "source": [
    "probabilities"
   ]
  },
  {
   "cell_type": "code",
   "execution_count": 67,
   "metadata": {},
   "outputs": [
    {
     "name": "stdout",
     "output_type": "stream",
     "text": [
      "Most likely class: dog -- Probability: 0.35504904\n",
      "Second most likely class: horse -- Probability: 0.32934597\n",
      "Third most likely class: cat -- Probability: 0.30922583\n",
      "Fourth most likely class: deer -- Probability: 0.005672642\n",
      "Fifth most likely class: bird -- Probability: 0.00034916154\n"
     ]
    }
   ],
   "source": [
    "number_to_class = ['airplane', 'automobile', 'bird', 'cat', 'deer', 'dog', 'frog', 'horse', 'ship', 'truck']\n",
    "index = np.argsort(probabilities[0,:])\n",
    "print(\"Most likely class:\", number_to_class[index[9]], \"-- Probability:\", probabilities[0,index[9]])\n",
    "print(\"Second most likely class:\", number_to_class[index[8]], \"-- Probability:\", probabilities[0,index[8]])\n",
    "print(\"Third most likely class:\", number_to_class[index[7]], \"-- Probability:\", probabilities[0,index[7]])\n",
    "print(\"Fourth most likely class:\", number_to_class[index[6]], \"-- Probability:\", probabilities[0,index[6]])\n",
    "print(\"Fifth most likely class:\", number_to_class[index[5]], \"-- Probability:\", probabilities[0,index[5]])"
   ]
  },
  {
   "cell_type": "code",
   "execution_count": null,
   "metadata": {},
   "outputs": [],
   "source": []
  }
 ],
 "metadata": {
  "kernelspec": {
   "display_name": "Python 3",
   "language": "python",
   "name": "python3"
  },
  "language_info": {
   "codemirror_mode": {
    "name": "ipython",
    "version": 3
   },
   "file_extension": ".py",
   "mimetype": "text/x-python",
   "name": "python",
   "nbconvert_exporter": "python",
   "pygments_lexer": "ipython3",
   "version": "3.8.5"
  }
 },
 "nbformat": 4,
 "nbformat_minor": 4
}
